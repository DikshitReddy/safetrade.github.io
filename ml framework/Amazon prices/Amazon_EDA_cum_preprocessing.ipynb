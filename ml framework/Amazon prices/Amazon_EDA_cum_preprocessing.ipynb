{
  "nbformat": 4,
  "nbformat_minor": 0,
  "metadata": {
    "colab": {
      "name": "Amazon_EDA_cum_preprocessing.ipynb",
      "provenance": [],
      "collapsed_sections": []
    },
    "kernelspec": {
      "name": "python3",
      "display_name": "Python 3"
    }
  },
  "cells": [
    {
      "cell_type": "code",
      "metadata": {
        "id": "vIqQiXKWKMVF",
        "colab_type": "code",
        "outputId": "7aedcd6b-1e8f-4ae7-eb77-06364eeffd17",
        "colab": {
          "base_uri": "https://localhost:8080/",
          "height": 34
        }
      },
      "source": [
        "from google.colab import drive\n",
        "drive.mount(\"/content/drive\")"
      ],
      "execution_count": 174,
      "outputs": [
        {
          "output_type": "stream",
          "text": [
            "Drive already mounted at /content/drive; to attempt to forcibly remount, call drive.mount(\"/content/drive\", force_remount=True).\n"
          ],
          "name": "stdout"
        }
      ]
    },
    {
      "cell_type": "code",
      "metadata": {
        "id": "7RvBuTtQLLvG",
        "colab_type": "code",
        "colab": {}
      },
      "source": [
        "import numpy as np\n",
        "import pandas as pd\n",
        "import matplotlib.pyplot as plt\n",
        "import seaborn as sns\n",
        "%matplotlib inline"
      ],
      "execution_count": 0,
      "outputs": []
    },
    {
      "cell_type": "code",
      "metadata": {
        "id": "L3oNaQbQMAMr",
        "colab_type": "code",
        "colab": {}
      },
      "source": [
        "train = pd.DataFrame(pd.read_csv(\"/content/drive/My Drive/Datasets/Stock Prices/Amazon stock prices/AMZNtrain.csv\"))"
      ],
      "execution_count": 0,
      "outputs": []
    },
    {
      "cell_type": "code",
      "metadata": {
        "id": "1CnCc2wRMGS2",
        "colab_type": "code",
        "outputId": "f9542fd3-2bb5-4f7d-dca8-0d9904944856",
        "colab": {
          "base_uri": "https://localhost:8080/",
          "height": 204
        }
      },
      "source": [
        "train.head()"
      ],
      "execution_count": 177,
      "outputs": [
        {
          "output_type": "execute_result",
          "data": {
            "text/html": [
              "<div>\n",
              "<style scoped>\n",
              "    .dataframe tbody tr th:only-of-type {\n",
              "        vertical-align: middle;\n",
              "    }\n",
              "\n",
              "    .dataframe tbody tr th {\n",
              "        vertical-align: top;\n",
              "    }\n",
              "\n",
              "    .dataframe thead th {\n",
              "        text-align: right;\n",
              "    }\n",
              "</style>\n",
              "<table border=\"1\" class=\"dataframe\">\n",
              "  <thead>\n",
              "    <tr style=\"text-align: right;\">\n",
              "      <th></th>\n",
              "      <th>Date</th>\n",
              "      <th>Open</th>\n",
              "      <th>High</th>\n",
              "      <th>Low</th>\n",
              "      <th>Close</th>\n",
              "      <th>Adj Close</th>\n",
              "      <th>Volume</th>\n",
              "    </tr>\n",
              "  </thead>\n",
              "  <tbody>\n",
              "    <tr>\n",
              "      <th>0</th>\n",
              "      <td>2014-01-02</td>\n",
              "      <td>398.799988</td>\n",
              "      <td>399.359985</td>\n",
              "      <td>394.019989</td>\n",
              "      <td>397.970001</td>\n",
              "      <td>397.970001</td>\n",
              "      <td>2137800</td>\n",
              "    </tr>\n",
              "    <tr>\n",
              "      <th>1</th>\n",
              "      <td>2014-01-03</td>\n",
              "      <td>398.290009</td>\n",
              "      <td>402.709991</td>\n",
              "      <td>396.220001</td>\n",
              "      <td>396.440002</td>\n",
              "      <td>396.440002</td>\n",
              "      <td>2210200</td>\n",
              "    </tr>\n",
              "    <tr>\n",
              "      <th>2</th>\n",
              "      <td>2014-01-06</td>\n",
              "      <td>395.850006</td>\n",
              "      <td>397.000000</td>\n",
              "      <td>388.420013</td>\n",
              "      <td>393.630005</td>\n",
              "      <td>393.630005</td>\n",
              "      <td>3170600</td>\n",
              "    </tr>\n",
              "    <tr>\n",
              "      <th>3</th>\n",
              "      <td>2014-01-07</td>\n",
              "      <td>395.040009</td>\n",
              "      <td>398.470001</td>\n",
              "      <td>394.290009</td>\n",
              "      <td>398.029999</td>\n",
              "      <td>398.029999</td>\n",
              "      <td>1916000</td>\n",
              "    </tr>\n",
              "    <tr>\n",
              "      <th>4</th>\n",
              "      <td>2014-01-08</td>\n",
              "      <td>398.470001</td>\n",
              "      <td>403.000000</td>\n",
              "      <td>396.040009</td>\n",
              "      <td>401.920013</td>\n",
              "      <td>401.920013</td>\n",
              "      <td>2316500</td>\n",
              "    </tr>\n",
              "  </tbody>\n",
              "</table>\n",
              "</div>"
            ],
            "text/plain": [
              "         Date        Open        High  ...       Close   Adj Close   Volume\n",
              "0  2014-01-02  398.799988  399.359985  ...  397.970001  397.970001  2137800\n",
              "1  2014-01-03  398.290009  402.709991  ...  396.440002  396.440002  2210200\n",
              "2  2014-01-06  395.850006  397.000000  ...  393.630005  393.630005  3170600\n",
              "3  2014-01-07  395.040009  398.470001  ...  398.029999  398.029999  1916000\n",
              "4  2014-01-08  398.470001  403.000000  ...  401.920013  401.920013  2316500\n",
              "\n",
              "[5 rows x 7 columns]"
            ]
          },
          "metadata": {
            "tags": []
          },
          "execution_count": 177
        }
      ]
    },
    {
      "cell_type": "code",
      "metadata": {
        "id": "0QuATzs2MIiR",
        "colab_type": "code",
        "outputId": "465db548-13c1-46c3-bd71-93a0d8648ecf",
        "colab": {
          "base_uri": "https://localhost:8080/",
          "height": 204
        }
      },
      "source": [
        "train.tail()"
      ],
      "execution_count": 178,
      "outputs": [
        {
          "output_type": "execute_result",
          "data": {
            "text/html": [
              "<div>\n",
              "<style scoped>\n",
              "    .dataframe tbody tr th:only-of-type {\n",
              "        vertical-align: middle;\n",
              "    }\n",
              "\n",
              "    .dataframe tbody tr th {\n",
              "        vertical-align: top;\n",
              "    }\n",
              "\n",
              "    .dataframe thead th {\n",
              "        text-align: right;\n",
              "    }\n",
              "</style>\n",
              "<table border=\"1\" class=\"dataframe\">\n",
              "  <thead>\n",
              "    <tr style=\"text-align: right;\">\n",
              "      <th></th>\n",
              "      <th>Date</th>\n",
              "      <th>Open</th>\n",
              "      <th>High</th>\n",
              "      <th>Low</th>\n",
              "      <th>Close</th>\n",
              "      <th>Adj Close</th>\n",
              "      <th>Volume</th>\n",
              "    </tr>\n",
              "  </thead>\n",
              "  <tbody>\n",
              "    <tr>\n",
              "      <th>1253</th>\n",
              "      <td>2018-12-24</td>\n",
              "      <td>1346.000000</td>\n",
              "      <td>1396.030029</td>\n",
              "      <td>1307.000000</td>\n",
              "      <td>1343.959961</td>\n",
              "      <td>1343.959961</td>\n",
              "      <td>7220000</td>\n",
              "    </tr>\n",
              "    <tr>\n",
              "      <th>1254</th>\n",
              "      <td>2018-12-26</td>\n",
              "      <td>1368.890015</td>\n",
              "      <td>1473.160034</td>\n",
              "      <td>1363.010010</td>\n",
              "      <td>1470.900024</td>\n",
              "      <td>1470.900024</td>\n",
              "      <td>10411800</td>\n",
              "    </tr>\n",
              "    <tr>\n",
              "      <th>1255</th>\n",
              "      <td>2018-12-27</td>\n",
              "      <td>1454.199951</td>\n",
              "      <td>1469.000000</td>\n",
              "      <td>1390.310059</td>\n",
              "      <td>1461.640015</td>\n",
              "      <td>1461.640015</td>\n",
              "      <td>9722000</td>\n",
              "    </tr>\n",
              "    <tr>\n",
              "      <th>1256</th>\n",
              "      <td>2018-12-28</td>\n",
              "      <td>1473.349976</td>\n",
              "      <td>1513.469971</td>\n",
              "      <td>1449.000000</td>\n",
              "      <td>1478.020020</td>\n",
              "      <td>1478.020020</td>\n",
              "      <td>8829000</td>\n",
              "    </tr>\n",
              "    <tr>\n",
              "      <th>1257</th>\n",
              "      <td>2018-12-31</td>\n",
              "      <td>1510.800049</td>\n",
              "      <td>1520.760010</td>\n",
              "      <td>1487.000000</td>\n",
              "      <td>1501.969971</td>\n",
              "      <td>1501.969971</td>\n",
              "      <td>6954500</td>\n",
              "    </tr>\n",
              "  </tbody>\n",
              "</table>\n",
              "</div>"
            ],
            "text/plain": [
              "            Date         Open         High  ...        Close    Adj Close    Volume\n",
              "1253  2018-12-24  1346.000000  1396.030029  ...  1343.959961  1343.959961   7220000\n",
              "1254  2018-12-26  1368.890015  1473.160034  ...  1470.900024  1470.900024  10411800\n",
              "1255  2018-12-27  1454.199951  1469.000000  ...  1461.640015  1461.640015   9722000\n",
              "1256  2018-12-28  1473.349976  1513.469971  ...  1478.020020  1478.020020   8829000\n",
              "1257  2018-12-31  1510.800049  1520.760010  ...  1501.969971  1501.969971   6954500\n",
              "\n",
              "[5 rows x 7 columns]"
            ]
          },
          "metadata": {
            "tags": []
          },
          "execution_count": 178
        }
      ]
    },
    {
      "cell_type": "code",
      "metadata": {
        "id": "yDb1EhjvMMIc",
        "colab_type": "code",
        "outputId": "6e78d670-21dd-43c2-9152-e3ea8bd9d095",
        "colab": {
          "base_uri": "https://localhost:8080/",
          "height": 34
        }
      },
      "source": [
        "print(\"The shape of training data = {}\".format(train.shape))"
      ],
      "execution_count": 179,
      "outputs": [
        {
          "output_type": "stream",
          "text": [
            "The shape of training data = (1258, 7)\n"
          ],
          "name": "stdout"
        }
      ]
    },
    {
      "cell_type": "code",
      "metadata": {
        "id": "ui4xJESqGO1z",
        "colab_type": "code",
        "outputId": "06d56acd-bcfc-4f80-d734-a703802b5ed1",
        "colab": {
          "base_uri": "https://localhost:8080/",
          "height": 601
        }
      },
      "source": [
        "plt.figure(figsize = (10, 10))\n",
        "sns.heatmap(train.corr(), annot = True, fmt = \".1g\", vmin = -1, vmax = 1, center = 0, linewidths = 3, linecolor = \"black\", square = True)"
      ],
      "execution_count": 180,
      "outputs": [
        {
          "output_type": "execute_result",
          "data": {
            "text/plain": [
              "<matplotlib.axes._subplots.AxesSubplot at 0x7ffb5fd919e8>"
            ]
          },
          "metadata": {
            "tags": []
          },
          "execution_count": 180
        },
        {
          "output_type": "display_data",
          "data": {
            "image/png": "[encoded data removed]",
            "text/plain": [
              "<Figure size 720x720 with 2 Axes>"
            ]
          },
          "metadata": {
            "tags": [],
            "needs_background": "light"
          }
        }
      ]
    },
    {
      "cell_type": "code",
      "metadata": {
        "id": "rkWw7ynd4vqv",
        "colab_type": "code",
        "outputId": "a339ccee-9c32-45b2-b7cc-b9dede5349d0",
        "colab": {
          "base_uri": "https://localhost:8080/",
          "height": 297
        }
      },
      "source": [
        "train.describe()"
      ],
      "execution_count": 181,
      "outputs": [
        {
          "output_type": "execute_result",
          "data": {
            "text/html": [
              "<div>\n",
              "<style scoped>\n",
              "    .dataframe tbody tr th:only-of-type {\n",
              "        vertical-align: middle;\n",
              "    }\n",
              "\n",
              "    .dataframe tbody tr th {\n",
              "        vertical-align: top;\n",
              "    }\n",
              "\n",
              "    .dataframe thead th {\n",
              "        text-align: right;\n",
              "    }\n",
              "</style>\n",
              "<table border=\"1\" class=\"dataframe\">\n",
              "  <thead>\n",
              "    <tr style=\"text-align: right;\">\n",
              "      <th></th>\n",
              "      <th>Open</th>\n",
              "      <th>High</th>\n",
              "      <th>Low</th>\n",
              "      <th>Close</th>\n",
              "      <th>Adj Close</th>\n",
              "      <th>Volume</th>\n",
              "    </tr>\n",
              "  </thead>\n",
              "  <tbody>\n",
              "    <tr>\n",
              "      <th>count</th>\n",
              "      <td>1258.000000</td>\n",
              "      <td>1258.000000</td>\n",
              "      <td>1258.000000</td>\n",
              "      <td>1258.000000</td>\n",
              "      <td>1258.000000</td>\n",
              "      <td>1.258000e+03</td>\n",
              "    </tr>\n",
              "    <tr>\n",
              "      <th>mean</th>\n",
              "      <td>823.840056</td>\n",
              "      <td>831.762583</td>\n",
              "      <td>814.173943</td>\n",
              "      <td>823.256543</td>\n",
              "      <td>823.256543</td>\n",
              "      <td>4.231814e+06</td>\n",
              "    </tr>\n",
              "    <tr>\n",
              "      <th>std</th>\n",
              "      <td>477.931392</td>\n",
              "      <td>482.851261</td>\n",
              "      <td>471.058235</td>\n",
              "      <td>476.952699</td>\n",
              "      <td>476.952699</td>\n",
              "      <td>2.400533e+06</td>\n",
              "    </tr>\n",
              "    <tr>\n",
              "      <th>min</th>\n",
              "      <td>284.399994</td>\n",
              "      <td>290.420013</td>\n",
              "      <td>284.000000</td>\n",
              "      <td>286.950012</td>\n",
              "      <td>286.950012</td>\n",
              "      <td>1.093000e+06</td>\n",
              "    </tr>\n",
              "    <tr>\n",
              "      <th>25%</th>\n",
              "      <td>393.892494</td>\n",
              "      <td>398.795006</td>\n",
              "      <td>388.427513</td>\n",
              "      <td>394.772492</td>\n",
              "      <td>394.772492</td>\n",
              "      <td>2.713950e+06</td>\n",
              "    </tr>\n",
              "    <tr>\n",
              "      <th>50%</th>\n",
              "      <td>726.450012</td>\n",
              "      <td>729.779999</td>\n",
              "      <td>720.079986</td>\n",
              "      <td>727.190002</td>\n",
              "      <td>727.190002</td>\n",
              "      <td>3.582300e+06</td>\n",
              "    </tr>\n",
              "    <tr>\n",
              "      <th>75%</th>\n",
              "      <td>1005.860016</td>\n",
              "      <td>1009.742493</td>\n",
              "      <td>997.122513</td>\n",
              "      <td>1002.762496</td>\n",
              "      <td>1002.762496</td>\n",
              "      <td>4.857900e+06</td>\n",
              "    </tr>\n",
              "    <tr>\n",
              "      <th>max</th>\n",
              "      <td>2038.109985</td>\n",
              "      <td>2050.500000</td>\n",
              "      <td>2013.000000</td>\n",
              "      <td>2039.510010</td>\n",
              "      <td>2039.510010</td>\n",
              "      <td>2.385610e+07</td>\n",
              "    </tr>\n",
              "  </tbody>\n",
              "</table>\n",
              "</div>"
            ],
            "text/plain": [
              "              Open         High  ...    Adj Close        Volume\n",
              "count  1258.000000  1258.000000  ...  1258.000000  1.258000e+03\n",
              "mean    823.840056   831.762583  ...   823.256543  4.231814e+06\n",
              "std     477.931392   482.851261  ...   476.952699  2.400533e+06\n",
              "min     284.399994   290.420013  ...   286.950012  1.093000e+06\n",
              "25%     393.892494   398.795006  ...   394.772492  2.713950e+06\n",
              "50%     726.450012   729.779999  ...   727.190002  3.582300e+06\n",
              "75%    1005.860016  1009.742493  ...  1002.762496  4.857900e+06\n",
              "max    2038.109985  2050.500000  ...  2039.510010  2.385610e+07\n",
              "\n",
              "[8 rows x 6 columns]"
            ]
          },
          "metadata": {
            "tags": []
          },
          "execution_count": 181
        }
      ]
    },
    {
      "cell_type": "code",
      "metadata": {
        "id": "Xx6ITrc1505V",
        "colab_type": "code",
        "outputId": "ab2ca211-df76-4242-b7ad-d638bc39e39f",
        "colab": {
          "base_uri": "https://localhost:8080/",
          "height": 255
        }
      },
      "source": [
        "train.info()"
      ],
      "execution_count": 182,
      "outputs": [
        {
          "output_type": "stream",
          "text": [
            "<class 'pandas.core.frame.DataFrame'>\n",
            "RangeIndex: 1258 entries, 0 to 1257\n",
            "Data columns (total 7 columns):\n",
            " #   Column     Non-Null Count  Dtype  \n",
            "---  ------     --------------  -----  \n",
            " 0   Date       1258 non-null   object \n",
            " 1   Open       1258 non-null   float64\n",
            " 2   High       1258 non-null   float64\n",
            " 3   Low        1258 non-null   float64\n",
            " 4   Close      1258 non-null   float64\n",
            " 5   Adj Close  1258 non-null   float64\n",
            " 6   Volume     1258 non-null   int64  \n",
            "dtypes: float64(5), int64(1), object(1)\n",
            "memory usage: 68.9+ KB\n"
          ],
          "name": "stdout"
        }
      ]
    },
    {
      "cell_type": "code",
      "metadata": {
        "id": "htE4XPPC6h96",
        "colab_type": "code",
        "outputId": "3e6518e9-98cb-487e-c28c-91d45f7cc43f",
        "colab": {
          "base_uri": "https://localhost:8080/",
          "height": 350
        }
      },
      "source": [
        "plt.figure(figsize = (15, 5))\n",
        "plt.subplot(2,1,1)\n",
        "plt.plot(train.Open.values, color = \"red\", label = \"Open Stock Price\")\n",
        "plt.plot(train.Close.values, color = \"green\", label = \"Closed Stock Price\")\n",
        "plt.plot(train.High.values, color = \"blue\", label = \"High Price\")\n",
        "plt.plot(train.Low.values, color = \"magenta\", label = \"Low Price\")\n",
        "plt.title(\"Amazon Stock Price Analysis\")\n",
        "plt.xlabel(\"time in days\")\n",
        "plt.ylabel(\"Stock price\")\n",
        "plt.legend(loc = \"best\")\n",
        "plt.grid(which = \"major\", axis = \"both\")\n",
        "\n",
        "plt.subplot(2,1,2)\n",
        "plt.plot(train.Volume.values, color= \"black\", label = \"Stock volume\")\n",
        "plt.title(\"Stock Volume\")\n",
        "plt.xlabel(\"time in days\")\n",
        "plt.ylabel(\"Volume\")\n",
        "plt.legend(loc = \"best\")\n",
        "plt.grid(which = \"major\", axis = \"both\")\n",
        "plt.show()"
      ],
      "execution_count": 183,
      "outputs": [
        {
          "output_type": "display_data",
          "data": {
            "image/png": "[encoded data removed]",
            "text/plain": [
              "<Figure size 1080x360 with 2 Axes>"
            ]
          },
          "metadata": {
            "tags": [],
            "needs_background": "light"
          }
        }
      ]
    },
    {
      "cell_type": "code",
      "metadata": {
        "id": "vb7rOdhW8OGq",
        "colab_type": "code",
        "colab": {}
      },
      "source": [
        "train.drop([\"Volume\",\"Date\", \"Adj Close\", \"High\", \"Low\", \"Close\"], axis = 1, inplace = True)"
      ],
      "execution_count": 0,
      "outputs": []
    },
    {
      "cell_type": "code",
      "metadata": {
        "id": "VVhLLZK31G-v",
        "colab_type": "code",
        "colab": {}
      },
      "source": [
        "import sklearn\n",
        "from sklearn.preprocessing import MinMaxScaler\n",
        "\n",
        "def scale_columns(df):\n",
        "  scaler = MinMaxScaler(feature_range = (0,1))\n",
        "  df = scaler.fit_transform(df)\n",
        "  return df  "
      ],
      "execution_count": 0,
      "outputs": []
    },
    {
      "cell_type": "code",
      "metadata": {
        "id": "BKAX07VM1HEq",
        "colab_type": "code",
        "colab": {}
      },
      "source": [
        "train_scaled = scale_columns(train)"
      ],
      "execution_count": 0,
      "outputs": []
    },
    {
      "cell_type": "code",
      "metadata": {
        "id": "EbPmWz0UFQJZ",
        "colab_type": "code",
        "colab": {
          "base_uri": "https://localhost:8080/",
          "height": 136
        },
        "outputId": "1a3a48c8-1514-43a6-c399-9f3692633153"
      },
      "source": [
        "train_scaled"
      ],
      "execution_count": 187,
      "outputs": [
        {
          "output_type": "execute_result",
          "data": {
            "text/plain": [
              "array([[0.06523313],\n",
              "       [0.06494233],\n",
              "       [0.06355099],\n",
              "       ...,\n",
              "       [0.66704299],\n",
              "       [0.67796271],\n",
              "       [0.69931748]])"
            ]
          },
          "metadata": {
            "tags": []
          },
          "execution_count": 187
        }
      ]
    },
    {
      "cell_type": "code",
      "metadata": {
        "id": "Vo4iSeeK1HHd",
        "colab_type": "code",
        "colab": {
          "base_uri": "https://localhost:8080/",
          "height": 34
        },
        "outputId": "c271e454-56c8-4711-f25f-7fa3183b5f44"
      },
      "source": [
        "train_scaled.shape"
      ],
      "execution_count": 188,
      "outputs": [
        {
          "output_type": "execute_result",
          "data": {
            "text/plain": [
              "(1258, 1)"
            ]
          },
          "metadata": {
            "tags": []
          },
          "execution_count": 188
        }
      ]
    },
    {
      "cell_type": "code",
      "metadata": {
        "id": "nMYcRz-DInHV",
        "colab_type": "code",
        "colab": {
          "base_uri": "https://localhost:8080/",
          "height": 350
        },
        "outputId": "349e79c4-303f-4871-c075-5b6c3a16d2e1"
      },
      "source": [
        "plt.figure(figsize = (15, 5))\n",
        "plt.subplot(1,1,1)\n",
        "plt.plot(train_scaled, color = \"red\", label = \"Scaled Open Stock Price\")\n",
        "plt.title(\"Scaled Open Amazon Stock Price Analysis\")\n",
        "plt.xlabel(\"time in days\")\n",
        "plt.ylabel(\"Stock price\")\n",
        "plt.legend(loc = \"best\")\n",
        "plt.grid(which = \"major\", axis = \"both\")"
      ],
      "execution_count": 189,
      "outputs": [
        {
          "output_type": "display_data",
          "data": {
            "image/png": "[encoded data removed]",
            "text/plain": [
              "<Figure size 1080x360 with 1 Axes>"
            ]
          },
          "metadata": {
            "tags": [],
            "needs_background": "light"
          }
        }
      ]
    },
    {
      "cell_type": "code",
      "metadata": {
        "id": "qlYkrr8f3aR4",
        "colab_type": "code",
        "colab": {
          "base_uri": "https://localhost:8080/",
          "height": 51
        },
        "outputId": "b698f8e2-af2b-4513-da04-6ab1dd5c8f98"
      },
      "source": [
        "training_size = int(len(train_scaled) * 0.7) \n",
        "val_size = len(train_scaled) - training_size\n",
        "print(\"length of training data = {}\".format(training_size))\n",
        "print(\"length of the hold out cross validation set = {}\".format(val_size))"
      ],
      "execution_count": 190,
      "outputs": [
        {
          "output_type": "stream",
          "text": [
            "length of training data = 880\n",
            "length of the hold out cross validation set = 378\n"
          ],
          "name": "stdout"
        }
      ]
    },
    {
      "cell_type": "code",
      "metadata": {
        "id": "dGaO98mk4EUG",
        "colab_type": "code",
        "colab": {
          "base_uri": "https://localhost:8080/",
          "height": 51
        },
        "outputId": "87304c5e-3ac7-403f-d6a3-0b6ef26b707b"
      },
      "source": [
        "train = train_scaled[0 : training_size]\n",
        "val = train_scaled[training_size : len(train_scaled)]\n",
        "print(train.shape)\n",
        "print(val.shape)"
      ],
      "execution_count": 191,
      "outputs": [
        {
          "output_type": "stream",
          "text": [
            "(880, 1)\n",
            "(378, 1)\n"
          ],
          "name": "stdout"
        }
      ]
    },
    {
      "cell_type": "code",
      "metadata": {
        "id": "rYSn6c04BtNV",
        "colab_type": "code",
        "colab": {
          "base_uri": "https://localhost:8080/",
          "height": 51
        },
        "outputId": "371e0669-970e-44b9-8d13-881d7dc2e9c7"
      },
      "source": [
        "time_step = 2\n",
        "x_train, y_train = [], [] \n",
        "x_val, y_val = [], []\n",
        "for i in range(time_step, train.shape[0]):\n",
        "  x_train.append(train[i - time_step : i, 0])\n",
        "  y_train.append(train[time_step, 0])\n",
        "x_train, y_train = np.array(x_train), np.array(y_train)\n",
        "\n",
        "for i in range(time_step, val.shape[0]):\n",
        "  x_val.append(val[i - time_step : i, 0])\n",
        "  y_val.append(val[time_step, 0])\n",
        "x_val, y_val = np.array(x_val), np.array(y_val)\n",
        "\n",
        "print(x_train.shape, y_train.shape, type(x_train), type(y_train))\n",
        "print(x_val.shape, y_val.shape, type(x_val), type(y_val))"
      ],
      "execution_count": 192,
      "outputs": [
        {
          "output_type": "stream",
          "text": [
            "(878, 2) (878,) <class 'numpy.ndarray'> <class 'numpy.ndarray'>\n",
            "(376, 2) (376,) <class 'numpy.ndarray'> <class 'numpy.ndarray'>\n"
          ],
          "name": "stdout"
        }
      ]
    },
    {
      "cell_type": "code",
      "metadata": {
        "id": "1aSsVJeUDaLA",
        "colab_type": "code",
        "colab": {
          "base_uri": "https://localhost:8080/",
          "height": 51
        },
        "outputId": "3b49a578-0f05-4778-aad3-e8a02fcbaa79"
      },
      "source": [
        "x_train = x_train.reshape(x_train.shape[0], x_train.shape[1], 1)\n",
        "y_train = y_train.reshape(y_train.shape[0], 1, 1)\n",
        "x_val = x_val.reshape(x_val.shape[0], x_val.shape[1], 1)\n",
        "y_val = y_val.reshape(y_val.shape[0], 1, 1)\n",
        "\n",
        "print(x_train.shape, y_train.shape, type(x_train), type(y_train))\n",
        "print(x_val.shape, y_val.shape, type(x_val), type(y_val))"
      ],
      "execution_count": 193,
      "outputs": [
        {
          "output_type": "stream",
          "text": [
            "(878, 2, 1) (878, 1, 1) <class 'numpy.ndarray'> <class 'numpy.ndarray'>\n",
            "(376, 2, 1) (376, 1, 1) <class 'numpy.ndarray'> <class 'numpy.ndarray'>\n"
          ],
          "name": "stdout"
        }
      ]
    }
  ]
}