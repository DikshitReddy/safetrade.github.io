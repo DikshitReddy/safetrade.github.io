{
  "nbformat": 4,
  "nbformat_minor": 0,
  "metadata": {
    "colab": {
      "name": "Amazon_main_notebook_stockVolume.ipynb",
      "provenance": []
    },
    "kernelspec": {
      "name": "python3",
      "display_name": "Python 3"
    },
    "accelerator": "GPU"
  },
  "cells": [
    {
      "cell_type": "code",
      "metadata": {
        "id": "UZFQTDaBXFTD",
        "colab_type": "code",
        "colab": {
          "base_uri": "https://localhost:8080/",
          "height": 122
        },
        "outputId": "3e9a2956-7836-4285-aa8f-c389b42acdde"
      },
      "source": [
        "from google.colab import drive\n",
        "drive.mount(\"/content/drive\")"
      ],
      "execution_count": 1,
      "outputs": [
        {
          "output_type": "stream",
          "text": [
            "Go to this URL in a browser: https://accounts.google.com/o/oauth2/auth?client_id=947318989803-6bn6qk8qdgf4n4g3pfee6491hc0brc4i.apps.googleusercontent.com&redirect_uri=urn%3aietf%3awg%3aoauth%3a2.0%3aoob&response_type=code&scope=email%20https%3a%2f%2fwww.googleapis.com%2fauth%2fdocs.test%20https%3a%2f%2fwww.googleapis.com%2fauth%2fdrive%20https%3a%2f%2fwww.googleapis.com%2fauth%2fdrive.photos.readonly%20https%3a%2f%2fwww.googleapis.com%2fauth%2fpeopleapi.readonly\n",
            "\n",
            "Enter your authorization code:\n",
            "··········\n",
            "Mounted at /content/drive\n"
          ],
          "name": "stdout"
        }
      ]
    },
    {
      "cell_type": "code",
      "metadata": {
        "id": "W0tLJAWXXZtS",
        "colab_type": "code",
        "colab": {
          "base_uri": "https://localhost:8080/",
          "height": 71
        },
        "outputId": "76eae2b3-d763-4e51-c2b1-664e7d86cd6e"
      },
      "source": [
        "import numpy as np\n",
        "import pandas as pd\n",
        "import matplotlib.pyplot as plt\n",
        "import seaborn as sns\n",
        "%matplotlib inline"
      ],
      "execution_count": 2,
      "outputs": [
        {
          "output_type": "stream",
          "text": [
            "/usr/local/lib/python3.6/dist-packages/statsmodels/tools/_testing.py:19: FutureWarning: pandas.util.testing is deprecated. Use the functions in the public API at pandas.testing instead.\n",
            "  import pandas.util.testing as tm\n"
          ],
          "name": "stderr"
        }
      ]
    },
    {
      "cell_type": "code",
      "metadata": {
        "id": "2z1oJmfXXi11",
        "colab_type": "code",
        "colab": {}
      },
      "source": [
        "train = pd.DataFrame(pd.read_csv(\"/content/drive/My Drive/Datasets/Stock Prices/Amazon stock prices/AMZNtrain.csv\"))"
      ],
      "execution_count": 0,
      "outputs": []
    },
    {
      "cell_type": "code",
      "metadata": {
        "id": "0LK0L4DEXpDF",
        "colab_type": "code",
        "colab": {
          "base_uri": "https://localhost:8080/",
          "height": 204
        },
        "outputId": "ee6e168b-0a34-4ac2-e323-f6a58713b861"
      },
      "source": [
        "train.head()"
      ],
      "execution_count": 4,
      "outputs": [
        {
          "output_type": "execute_result",
          "data": {
            "text/html": [
              "<div>\n",
              "<style scoped>\n",
              "    .dataframe tbody tr th:only-of-type {\n",
              "        vertical-align: middle;\n",
              "    }\n",
              "\n",
              "    .dataframe tbody tr th {\n",
              "        vertical-align: top;\n",
              "    }\n",
              "\n",
              "    .dataframe thead th {\n",
              "        text-align: right;\n",
              "    }\n",
              "</style>\n",
              "<table border=\"1\" class=\"dataframe\">\n",
              "  <thead>\n",
              "    <tr style=\"text-align: right;\">\n",
              "      <th></th>\n",
              "      <th>Date</th>\n",
              "      <th>Open</th>\n",
              "      <th>High</th>\n",
              "      <th>Low</th>\n",
              "      <th>Close</th>\n",
              "      <th>Adj Close</th>\n",
              "      <th>Volume</th>\n",
              "    </tr>\n",
              "  </thead>\n",
              "  <tbody>\n",
              "    <tr>\n",
              "      <th>0</th>\n",
              "      <td>2014-01-02</td>\n",
              "      <td>398.799988</td>\n",
              "      <td>399.359985</td>\n",
              "      <td>394.019989</td>\n",
              "      <td>397.970001</td>\n",
              "      <td>397.970001</td>\n",
              "      <td>2137800</td>\n",
              "    </tr>\n",
              "    <tr>\n",
              "      <th>1</th>\n",
              "      <td>2014-01-03</td>\n",
              "      <td>398.290009</td>\n",
              "      <td>402.709991</td>\n",
              "      <td>396.220001</td>\n",
              "      <td>396.440002</td>\n",
              "      <td>396.440002</td>\n",
              "      <td>2210200</td>\n",
              "    </tr>\n",
              "    <tr>\n",
              "      <th>2</th>\n",
              "      <td>2014-01-06</td>\n",
              "      <td>395.850006</td>\n",
              "      <td>397.000000</td>\n",
              "      <td>388.420013</td>\n",
              "      <td>393.630005</td>\n",
              "      <td>393.630005</td>\n",
              "      <td>3170600</td>\n",
              "    </tr>\n",
              "    <tr>\n",
              "      <th>3</th>\n",
              "      <td>2014-01-07</td>\n",
              "      <td>395.040009</td>\n",
              "      <td>398.470001</td>\n",
              "      <td>394.290009</td>\n",
              "      <td>398.029999</td>\n",
              "      <td>398.029999</td>\n",
              "      <td>1916000</td>\n",
              "    </tr>\n",
              "    <tr>\n",
              "      <th>4</th>\n",
              "      <td>2014-01-08</td>\n",
              "      <td>398.470001</td>\n",
              "      <td>403.000000</td>\n",
              "      <td>396.040009</td>\n",
              "      <td>401.920013</td>\n",
              "      <td>401.920013</td>\n",
              "      <td>2316500</td>\n",
              "    </tr>\n",
              "  </tbody>\n",
              "</table>\n",
              "</div>"
            ],
            "text/plain": [
              "         Date        Open        High  ...       Close   Adj Close   Volume\n",
              "0  2014-01-02  398.799988  399.359985  ...  397.970001  397.970001  2137800\n",
              "1  2014-01-03  398.290009  402.709991  ...  396.440002  396.440002  2210200\n",
              "2  2014-01-06  395.850006  397.000000  ...  393.630005  393.630005  3170600\n",
              "3  2014-01-07  395.040009  398.470001  ...  398.029999  398.029999  1916000\n",
              "4  2014-01-08  398.470001  403.000000  ...  401.920013  401.920013  2316500\n",
              "\n",
              "[5 rows x 7 columns]"
            ]
          },
          "metadata": {
            "tags": []
          },
          "execution_count": 4
        }
      ]
    },
    {
      "cell_type": "code",
      "metadata": {
        "id": "NwWjiOwIXqs4",
        "colab_type": "code",
        "colab": {
          "base_uri": "https://localhost:8080/",
          "height": 204
        },
        "outputId": "28cb8cc6-8456-4021-9824-1fb667623599"
      },
      "source": [
        "train.tail()"
      ],
      "execution_count": 5,
      "outputs": [
        {
          "output_type": "execute_result",
          "data": {
            "text/html": [
              "<div>\n",
              "<style scoped>\n",
              "    .dataframe tbody tr th:only-of-type {\n",
              "        vertical-align: middle;\n",
              "    }\n",
              "\n",
              "    .dataframe tbody tr th {\n",
              "        vertical-align: top;\n",
              "    }\n",
              "\n",
              "    .dataframe thead th {\n",
              "        text-align: right;\n",
              "    }\n",
              "</style>\n",
              "<table border=\"1\" class=\"dataframe\">\n",
              "  <thead>\n",
              "    <tr style=\"text-align: right;\">\n",
              "      <th></th>\n",
              "      <th>Date</th>\n",
              "      <th>Open</th>\n",
              "      <th>High</th>\n",
              "      <th>Low</th>\n",
              "      <th>Close</th>\n",
              "      <th>Adj Close</th>\n",
              "      <th>Volume</th>\n",
              "    </tr>\n",
              "  </thead>\n",
              "  <tbody>\n",
              "    <tr>\n",
              "      <th>1253</th>\n",
              "      <td>2018-12-24</td>\n",
              "      <td>1346.000000</td>\n",
              "      <td>1396.030029</td>\n",
              "      <td>1307.000000</td>\n",
              "      <td>1343.959961</td>\n",
              "      <td>1343.959961</td>\n",
              "      <td>7220000</td>\n",
              "    </tr>\n",
              "    <tr>\n",
              "      <th>1254</th>\n",
              "      <td>2018-12-26</td>\n",
              "      <td>1368.890015</td>\n",
              "      <td>1473.160034</td>\n",
              "      <td>1363.010010</td>\n",
              "      <td>1470.900024</td>\n",
              "      <td>1470.900024</td>\n",
              "      <td>10411800</td>\n",
              "    </tr>\n",
              "    <tr>\n",
              "      <th>1255</th>\n",
              "      <td>2018-12-27</td>\n",
              "      <td>1454.199951</td>\n",
              "      <td>1469.000000</td>\n",
              "      <td>1390.310059</td>\n",
              "      <td>1461.640015</td>\n",
              "      <td>1461.640015</td>\n",
              "      <td>9722000</td>\n",
              "    </tr>\n",
              "    <tr>\n",
              "      <th>1256</th>\n",
              "      <td>2018-12-28</td>\n",
              "      <td>1473.349976</td>\n",
              "      <td>1513.469971</td>\n",
              "      <td>1449.000000</td>\n",
              "      <td>1478.020020</td>\n",
              "      <td>1478.020020</td>\n",
              "      <td>8829000</td>\n",
              "    </tr>\n",
              "    <tr>\n",
              "      <th>1257</th>\n",
              "      <td>2018-12-31</td>\n",
              "      <td>1510.800049</td>\n",
              "      <td>1520.760010</td>\n",
              "      <td>1487.000000</td>\n",
              "      <td>1501.969971</td>\n",
              "      <td>1501.969971</td>\n",
              "      <td>6954500</td>\n",
              "    </tr>\n",
              "  </tbody>\n",
              "</table>\n",
              "</div>"
            ],
            "text/plain": [
              "            Date         Open         High  ...        Close    Adj Close    Volume\n",
              "1253  2018-12-24  1346.000000  1396.030029  ...  1343.959961  1343.959961   7220000\n",
              "1254  2018-12-26  1368.890015  1473.160034  ...  1470.900024  1470.900024  10411800\n",
              "1255  2018-12-27  1454.199951  1469.000000  ...  1461.640015  1461.640015   9722000\n",
              "1256  2018-12-28  1473.349976  1513.469971  ...  1478.020020  1478.020020   8829000\n",
              "1257  2018-12-31  1510.800049  1520.760010  ...  1501.969971  1501.969971   6954500\n",
              "\n",
              "[5 rows x 7 columns]"
            ]
          },
          "metadata": {
            "tags": []
          },
          "execution_count": 5
        }
      ]
    },
    {
      "cell_type": "code",
      "metadata": {
        "id": "du4loneBXsNB",
        "colab_type": "code",
        "colab": {
          "base_uri": "https://localhost:8080/",
          "height": 34
        },
        "outputId": "b1bb5931-cfb8-48e4-d37f-6349e17e7efa"
      },
      "source": [
        "train.shape"
      ],
      "execution_count": 6,
      "outputs": [
        {
          "output_type": "execute_result",
          "data": {
            "text/plain": [
              "(1258, 7)"
            ]
          },
          "metadata": {
            "tags": []
          },
          "execution_count": 6
        }
      ]
    },
    {
      "cell_type": "code",
      "metadata": {
        "id": "vsIq72OqXtH0",
        "colab_type": "code",
        "colab": {
          "base_uri": "https://localhost:8080/",
          "height": 601
        },
        "outputId": "0fc9c60d-034f-43f2-c123-3e4e3583e829"
      },
      "source": [
        "plt.figure(figsize = (10, 10))\n",
        "sns.heatmap(train.corr(), annot = True, fmt = \".1g\", vmin = -1, vmax = 1, center = 0, linewidths = 3, linecolor = \"black\", square = True)"
      ],
      "execution_count": 7,
      "outputs": [
        {
          "output_type": "execute_result",
          "data": {
            "text/plain": [
              "<matplotlib.axes._subplots.AxesSubplot at 0x7f7ad56da2e8>"
            ]
          },
          "metadata": {
            "tags": []
          },
          "execution_count": 7
        },
        {
          "output_type": "display_data",
          "data": {
            "image/png": "[encoded data removed]",
            "text/plain": [
              "<Figure size 720x720 with 2 Axes>"
            ]
          },
          "metadata": {
            "tags": [],
            "needs_background": "light"
          }
        }
      ]
    },
    {
      "cell_type": "code",
      "metadata": {
        "id": "FpMcKK2nXzqD",
        "colab_type": "code",
        "colab": {
          "base_uri": "https://localhost:8080/",
          "height": 297
        },
        "outputId": "5ae47495-c7ab-4393-e543-3afc4b690a2d"
      },
      "source": [
        "train.describe()"
      ],
      "execution_count": 8,
      "outputs": [
        {
          "output_type": "execute_result",
          "data": {
            "text/html": [
              "<div>\n",
              "<style scoped>\n",
              "    .dataframe tbody tr th:only-of-type {\n",
              "        vertical-align: middle;\n",
              "    }\n",
              "\n",
              "    .dataframe tbody tr th {\n",
              "        vertical-align: top;\n",
              "    }\n",
              "\n",
              "    .dataframe thead th {\n",
              "        text-align: right;\n",
              "    }\n",
              "</style>\n",
              "<table border=\"1\" class=\"dataframe\">\n",
              "  <thead>\n",
              "    <tr style=\"text-align: right;\">\n",
              "      <th></th>\n",
              "      <th>Open</th>\n",
              "      <th>High</th>\n",
              "      <th>Low</th>\n",
              "      <th>Close</th>\n",
              "      <th>Adj Close</th>\n",
              "      <th>Volume</th>\n",
              "    </tr>\n",
              "  </thead>\n",
              "  <tbody>\n",
              "    <tr>\n",
              "      <th>count</th>\n",
              "      <td>1258.000000</td>\n",
              "      <td>1258.000000</td>\n",
              "      <td>1258.000000</td>\n",
              "      <td>1258.000000</td>\n",
              "      <td>1258.000000</td>\n",
              "      <td>1.258000e+03</td>\n",
              "    </tr>\n",
              "    <tr>\n",
              "      <th>mean</th>\n",
              "      <td>823.840056</td>\n",
              "      <td>831.762583</td>\n",
              "      <td>814.173943</td>\n",
              "      <td>823.256543</td>\n",
              "      <td>823.256543</td>\n",
              "      <td>4.231814e+06</td>\n",
              "    </tr>\n",
              "    <tr>\n",
              "      <th>std</th>\n",
              "      <td>477.931392</td>\n",
              "      <td>482.851261</td>\n",
              "      <td>471.058235</td>\n",
              "      <td>476.952699</td>\n",
              "      <td>476.952699</td>\n",
              "      <td>2.400533e+06</td>\n",
              "    </tr>\n",
              "    <tr>\n",
              "      <th>min</th>\n",
              "      <td>284.399994</td>\n",
              "      <td>290.420013</td>\n",
              "      <td>284.000000</td>\n",
              "      <td>286.950012</td>\n",
              "      <td>286.950012</td>\n",
              "      <td>1.093000e+06</td>\n",
              "    </tr>\n",
              "    <tr>\n",
              "      <th>25%</th>\n",
              "      <td>393.892494</td>\n",
              "      <td>398.795006</td>\n",
              "      <td>388.427513</td>\n",
              "      <td>394.772492</td>\n",
              "      <td>394.772492</td>\n",
              "      <td>2.713950e+06</td>\n",
              "    </tr>\n",
              "    <tr>\n",
              "      <th>50%</th>\n",
              "      <td>726.450012</td>\n",
              "      <td>729.779999</td>\n",
              "      <td>720.079986</td>\n",
              "      <td>727.190002</td>\n",
              "      <td>727.190002</td>\n",
              "      <td>3.582300e+06</td>\n",
              "    </tr>\n",
              "    <tr>\n",
              "      <th>75%</th>\n",
              "      <td>1005.860016</td>\n",
              "      <td>1009.742493</td>\n",
              "      <td>997.122513</td>\n",
              "      <td>1002.762496</td>\n",
              "      <td>1002.762496</td>\n",
              "      <td>4.857900e+06</td>\n",
              "    </tr>\n",
              "    <tr>\n",
              "      <th>max</th>\n",
              "      <td>2038.109985</td>\n",
              "      <td>2050.500000</td>\n",
              "      <td>2013.000000</td>\n",
              "      <td>2039.510010</td>\n",
              "      <td>2039.510010</td>\n",
              "      <td>2.385610e+07</td>\n",
              "    </tr>\n",
              "  </tbody>\n",
              "</table>\n",
              "</div>"
            ],
            "text/plain": [
              "              Open         High  ...    Adj Close        Volume\n",
              "count  1258.000000  1258.000000  ...  1258.000000  1.258000e+03\n",
              "mean    823.840056   831.762583  ...   823.256543  4.231814e+06\n",
              "std     477.931392   482.851261  ...   476.952699  2.400533e+06\n",
              "min     284.399994   290.420013  ...   286.950012  1.093000e+06\n",
              "25%     393.892494   398.795006  ...   394.772492  2.713950e+06\n",
              "50%     726.450012   729.779999  ...   727.190002  3.582300e+06\n",
              "75%    1005.860016  1009.742493  ...  1002.762496  4.857900e+06\n",
              "max    2038.109985  2050.500000  ...  2039.510010  2.385610e+07\n",
              "\n",
              "[8 rows x 6 columns]"
            ]
          },
          "metadata": {
            "tags": []
          },
          "execution_count": 8
        }
      ]
    },
    {
      "cell_type": "code",
      "metadata": {
        "id": "fEdzayj6X7fd",
        "colab_type": "code",
        "colab": {
          "base_uri": "https://localhost:8080/",
          "height": 255
        },
        "outputId": "c08809e4-7317-457b-b8dd-37c5d09a96d8"
      },
      "source": [
        "train.info()"
      ],
      "execution_count": 9,
      "outputs": [
        {
          "output_type": "stream",
          "text": [
            "<class 'pandas.core.frame.DataFrame'>\n",
            "RangeIndex: 1258 entries, 0 to 1257\n",
            "Data columns (total 7 columns):\n",
            " #   Column     Non-Null Count  Dtype  \n",
            "---  ------     --------------  -----  \n",
            " 0   Date       1258 non-null   object \n",
            " 1   Open       1258 non-null   float64\n",
            " 2   High       1258 non-null   float64\n",
            " 3   Low        1258 non-null   float64\n",
            " 4   Close      1258 non-null   float64\n",
            " 5   Adj Close  1258 non-null   float64\n",
            " 6   Volume     1258 non-null   int64  \n",
            "dtypes: float64(5), int64(1), object(1)\n",
            "memory usage: 68.9+ KB\n"
          ],
          "name": "stdout"
        }
      ]
    },
    {
      "cell_type": "code",
      "metadata": {
        "id": "X8cVKoW3X-45",
        "colab_type": "code",
        "colab": {
          "base_uri": "https://localhost:8080/",
          "height": 350
        },
        "outputId": "b822004f-8ad3-42e2-d493-5370aaddd9fe"
      },
      "source": [
        "plt.figure(figsize = (15, 5))\n",
        "plt.subplot(1,1,1)\n",
        "plt.plot(train.Volume.values, color= \"black\", label = \"Stock volume\")\n",
        "plt.title(\"Stock Volume\")\n",
        "plt.xlabel(\"time in days\")\n",
        "plt.ylabel(\"Volume\")\n",
        "plt.legend(loc = \"best\")\n",
        "plt.grid(which = \"major\", axis = \"both\")\n",
        "plt.show()"
      ],
      "execution_count": 10,
      "outputs": [
        {
          "output_type": "display_data",
          "data": {
            "image/png": "[encoded data removed]",
            "text/plain": [
              "<Figure size 1080x360 with 1 Axes>"
            ]
          },
          "metadata": {
            "tags": [],
            "needs_background": "light"
          }
        }
      ]
    },
    {
      "cell_type": "code",
      "metadata": {
        "id": "t7B4GaoTYIYp",
        "colab_type": "code",
        "colab": {}
      },
      "source": [
        "train.drop([\"Open\",\"Date\", \"Adj Close\", \"High\", \"Low\", \"Close\"], axis = 1, inplace = True)"
      ],
      "execution_count": 0,
      "outputs": []
    },
    {
      "cell_type": "code",
      "metadata": {
        "id": "BnIdZpC-YPrI",
        "colab_type": "code",
        "colab": {
          "base_uri": "https://localhost:8080/",
          "height": 34
        },
        "outputId": "57dc5c6a-1df7-41ba-8bd5-f0f879166500"
      },
      "source": [
        "train.shape"
      ],
      "execution_count": 12,
      "outputs": [
        {
          "output_type": "execute_result",
          "data": {
            "text/plain": [
              "(1258, 1)"
            ]
          },
          "metadata": {
            "tags": []
          },
          "execution_count": 12
        }
      ]
    },
    {
      "cell_type": "code",
      "metadata": {
        "id": "wm86_S8PYSUg",
        "colab_type": "code",
        "colab": {}
      },
      "source": [
        "train = train.values"
      ],
      "execution_count": 0,
      "outputs": []
    },
    {
      "cell_type": "code",
      "metadata": {
        "id": "iF11k5GqYVNL",
        "colab_type": "code",
        "colab": {
          "base_uri": "https://localhost:8080/",
          "height": 136
        },
        "outputId": "96cb54c8-fa48-498c-e303-632fd647596a"
      },
      "source": [
        "train"
      ],
      "execution_count": 14,
      "outputs": [
        {
          "output_type": "execute_result",
          "data": {
            "text/plain": [
              "array([[2137800],\n",
              "       [2210200],\n",
              "       [3170600],\n",
              "       ...,\n",
              "       [9722000],\n",
              "       [8829000],\n",
              "       [6954500]])"
            ]
          },
          "metadata": {
            "tags": []
          },
          "execution_count": 14
        }
      ]
    },
    {
      "cell_type": "code",
      "metadata": {
        "id": "0gjdr2ZdYXxJ",
        "colab_type": "code",
        "colab": {}
      },
      "source": [
        "import sklearn\n",
        "from sklearn.preprocessing import MinMaxScaler\n",
        "scaler = MinMaxScaler(feature_range = (0,1))\n",
        "train_scaled = scaler.fit_transform(train)"
      ],
      "execution_count": 0,
      "outputs": []
    },
    {
      "cell_type": "code",
      "metadata": {
        "id": "tpmiJvWBYdJp",
        "colab_type": "code",
        "colab": {}
      },
      "source": [
        "x_train, y_train = [], []\n",
        "time_step = 20\n",
        "for i in range(time_step, train_scaled.shape[0]):\n",
        "  x_train.append(train_scaled[i-time_step : i , 0])\n",
        "  y_train.append(train_scaled[i, 0])\n",
        "x_train, y_train = np.array(x_train), np.array(y_train)"
      ],
      "execution_count": 0,
      "outputs": []
    },
    {
      "cell_type": "code",
      "metadata": {
        "id": "XvxyXNurYgGN",
        "colab_type": "code",
        "colab": {
          "base_uri": "https://localhost:8080/",
          "height": 34
        },
        "outputId": "02939abe-f92e-493c-e8b3-a822227136c9"
      },
      "source": [
        "x_train.shape"
      ],
      "execution_count": 220,
      "outputs": [
        {
          "output_type": "execute_result",
          "data": {
            "text/plain": [
              "(1238, 20)"
            ]
          },
          "metadata": {
            "tags": []
          },
          "execution_count": 220
        }
      ]
    },
    {
      "cell_type": "code",
      "metadata": {
        "id": "1XRF9l3dYiq3",
        "colab_type": "code",
        "colab": {}
      },
      "source": [
        "x_train = np.reshape(x_train, (x_train.shape[0], x_train.shape[1], 1 ))"
      ],
      "execution_count": 0,
      "outputs": []
    },
    {
      "cell_type": "code",
      "metadata": {
        "id": "pmn-65yeYotf",
        "colab_type": "code",
        "colab": {}
      },
      "source": [
        "import tensorflow as tf\n",
        "model = tf.keras.Sequential()\n",
        "model.add(tf.keras.layers.LSTM(units = 100, return_sequences = True, input_shape = (x_train.shape[1], 1)))\n",
        "model.add(tf.keras.layers.Dropout(0.5))\n",
        "model.add(tf.keras.layers.LSTM(units = 100, return_sequences = True))\n",
        "model.add(tf.keras.layers.Dropout(0.5))\n",
        "model.add(tf.keras.layers.LSTM(units = 100, return_sequences = True))\n",
        "model.add(tf.keras.layers.Dropout(0.5))\n",
        "model.add(tf.keras.layers.LSTM(units = 100, return_sequences = False))\n",
        "model.add(tf.keras.layers.Dropout(0.5))\n",
        "model.add(tf.keras.layers.Dense(units = 1))"
      ],
      "execution_count": 0,
      "outputs": []
    },
    {
      "cell_type": "code",
      "metadata": {
        "id": "MbjboRyYYsUs",
        "colab_type": "code",
        "colab": {}
      },
      "source": [
        "model.compile(tf.keras.optimizers.Adam(lr = 0.0001), loss = \"mean_squared_error\")"
      ],
      "execution_count": 0,
      "outputs": []
    },
    {
      "cell_type": "code",
      "metadata": {
        "id": "WxUqW1TYYwLS",
        "colab_type": "code",
        "colab": {
          "base_uri": "https://localhost:8080/",
          "height": 1000
        },
        "outputId": "25adebf6-fc22-4e74-be6a-1ac322c4d112"
      },
      "source": [
        "with tf.device(\"/device:GPU:0\"):\n",
        "  history = model.fit(x_train, y_train, epochs = 200, batch_size = 16)"
      ],
      "execution_count": 224,
      "outputs": [
        {
          "output_type": "stream",
          "text": [
            "Epoch 1/200\n",
            "78/78 [==============================] - 1s 8ms/step - loss: 0.0142\n",
            "Epoch 2/200\n",
            "78/78 [==============================] - 1s 8ms/step - loss: 0.0110\n",
            "Epoch 3/200\n",
            "78/78 [==============================] - 1s 8ms/step - loss: 0.0107\n",
            "Epoch 4/200\n",
            "78/78 [==============================] - 1s 10ms/step - loss: 0.0111\n",
            "Epoch 5/200\n",
            "78/78 [==============================] - 1s 8ms/step - loss: 0.0106\n",
            "Epoch 6/200\n",
            "78/78 [==============================] - 1s 8ms/step - loss: 0.0114\n",
            "Epoch 7/200\n",
            "78/78 [==============================] - 1s 8ms/step - loss: 0.0106\n",
            "Epoch 8/200\n",
            "78/78 [==============================] - 1s 8ms/step - loss: 0.0107\n",
            "Epoch 9/200\n",
            "78/78 [==============================] - 1s 8ms/step - loss: 0.0106\n",
            "Epoch 10/200\n",
            "78/78 [==============================] - 1s 8ms/step - loss: 0.0109\n",
            "Epoch 11/200\n",
            "78/78 [==============================] - 1s 8ms/step - loss: 0.0103\n",
            "Epoch 12/200\n",
            "78/78 [==============================] - 1s 8ms/step - loss: 0.0103\n",
            "Epoch 13/200\n",
            "78/78 [==============================] - 1s 8ms/step - loss: 0.0104\n",
            "Epoch 14/200\n",
            "78/78 [==============================] - 1s 8ms/step - loss: 0.0103\n",
            "Epoch 15/200\n",
            "78/78 [==============================] - 1s 8ms/step - loss: 0.0103\n",
            "Epoch 16/200\n",
            "78/78 [==============================] - 1s 8ms/step - loss: 0.0103\n",
            "Epoch 17/200\n",
            "78/78 [==============================] - 1s 8ms/step - loss: 0.0104\n",
            "Epoch 18/200\n",
            "78/78 [==============================] - 1s 8ms/step - loss: 0.0101\n",
            "Epoch 19/200\n",
            "78/78 [==============================] - 1s 8ms/step - loss: 0.0113\n",
            "Epoch 20/200\n",
            "78/78 [==============================] - 1s 8ms/step - loss: 0.0112\n",
            "Epoch 21/200\n",
            "78/78 [==============================] - 1s 8ms/step - loss: 0.0104\n",
            "Epoch 22/200\n",
            "78/78 [==============================] - 1s 8ms/step - loss: 0.0102\n",
            "Epoch 23/200\n",
            "78/78 [==============================] - 1s 8ms/step - loss: 0.0102\n",
            "Epoch 24/200\n",
            "78/78 [==============================] - 1s 8ms/step - loss: 0.0106\n",
            "Epoch 25/200\n",
            "78/78 [==============================] - 1s 8ms/step - loss: 0.0104\n",
            "Epoch 26/200\n",
            "78/78 [==============================] - 1s 8ms/step - loss: 0.0102\n",
            "Epoch 27/200\n",
            "78/78 [==============================] - 1s 8ms/step - loss: 0.0103\n",
            "Epoch 28/200\n",
            "78/78 [==============================] - 1s 8ms/step - loss: 0.0101\n",
            "Epoch 29/200\n",
            "78/78 [==============================] - 1s 8ms/step - loss: 0.0103\n",
            "Epoch 30/200\n",
            "78/78 [==============================] - 1s 8ms/step - loss: 0.0102\n",
            "Epoch 31/200\n",
            "78/78 [==============================] - 1s 8ms/step - loss: 0.0101\n",
            "Epoch 32/200\n",
            "78/78 [==============================] - 1s 8ms/step - loss: 0.0101\n",
            "Epoch 33/200\n",
            "78/78 [==============================] - 1s 8ms/step - loss: 0.0100\n",
            "Epoch 34/200\n",
            "78/78 [==============================] - 1s 8ms/step - loss: 0.0100\n",
            "Epoch 35/200\n",
            "78/78 [==============================] - 1s 8ms/step - loss: 0.0098\n",
            "Epoch 36/200\n",
            "78/78 [==============================] - 1s 8ms/step - loss: 0.0103\n",
            "Epoch 37/200\n",
            "78/78 [==============================] - 1s 8ms/step - loss: 0.0102\n",
            "Epoch 38/200\n",
            "78/78 [==============================] - 1s 8ms/step - loss: 0.0100\n",
            "Epoch 39/200\n",
            "78/78 [==============================] - 1s 8ms/step - loss: 0.0099\n",
            "Epoch 40/200\n",
            "78/78 [==============================] - 1s 8ms/step - loss: 0.0100\n",
            "Epoch 41/200\n",
            "78/78 [==============================] - 1s 8ms/step - loss: 0.0100\n",
            "Epoch 42/200\n",
            "78/78 [==============================] - 1s 8ms/step - loss: 0.0105\n",
            "Epoch 43/200\n",
            "78/78 [==============================] - 1s 8ms/step - loss: 0.0101\n",
            "Epoch 44/200\n",
            "78/78 [==============================] - 1s 8ms/step - loss: 0.0099\n",
            "Epoch 45/200\n",
            "78/78 [==============================] - 1s 8ms/step - loss: 0.0100\n",
            "Epoch 46/200\n",
            "78/78 [==============================] - 1s 8ms/step - loss: 0.0098\n",
            "Epoch 47/200\n",
            "78/78 [==============================] - 1s 8ms/step - loss: 0.0096\n",
            "Epoch 48/200\n",
            "78/78 [==============================] - 1s 8ms/step - loss: 0.0102\n",
            "Epoch 49/200\n",
            "78/78 [==============================] - 1s 8ms/step - loss: 0.0099\n",
            "Epoch 50/200\n",
            "78/78 [==============================] - 1s 8ms/step - loss: 0.0098\n",
            "Epoch 51/200\n",
            "78/78 [==============================] - 1s 8ms/step - loss: 0.0096\n",
            "Epoch 52/200\n",
            "78/78 [==============================] - 1s 8ms/step - loss: 0.0098\n",
            "Epoch 53/200\n",
            "78/78 [==============================] - 1s 8ms/step - loss: 0.0096\n",
            "Epoch 54/200\n",
            "78/78 [==============================] - 1s 8ms/step - loss: 0.0097\n",
            "Epoch 55/200\n",
            "78/78 [==============================] - 1s 8ms/step - loss: 0.0096\n",
            "Epoch 56/200\n",
            "78/78 [==============================] - 1s 8ms/step - loss: 0.0096\n",
            "Epoch 57/200\n",
            "78/78 [==============================] - 1s 8ms/step - loss: 0.0095\n",
            "Epoch 58/200\n",
            "78/78 [==============================] - 1s 8ms/step - loss: 0.0096\n",
            "Epoch 59/200\n",
            "78/78 [==============================] - 1s 8ms/step - loss: 0.0095\n",
            "Epoch 60/200\n",
            "78/78 [==============================] - 1s 8ms/step - loss: 0.0094\n",
            "Epoch 61/200\n",
            "78/78 [==============================] - 1s 8ms/step - loss: 0.0095\n",
            "Epoch 62/200\n",
            "78/78 [==============================] - 1s 8ms/step - loss: 0.0098\n",
            "Epoch 63/200\n",
            "78/78 [==============================] - 1s 8ms/step - loss: 0.0094\n",
            "Epoch 64/200\n",
            "78/78 [==============================] - 1s 8ms/step - loss: 0.0095\n",
            "Epoch 65/200\n",
            "78/78 [==============================] - 1s 8ms/step - loss: 0.0094\n",
            "Epoch 66/200\n",
            "78/78 [==============================] - 1s 8ms/step - loss: 0.0094\n",
            "Epoch 67/200\n",
            "78/78 [==============================] - 1s 8ms/step - loss: 0.0092\n",
            "Epoch 68/200\n",
            "78/78 [==============================] - 1s 8ms/step - loss: 0.0093\n",
            "Epoch 69/200\n",
            "78/78 [==============================] - 1s 8ms/step - loss: 0.0093\n",
            "Epoch 70/200\n",
            "78/78 [==============================] - 1s 8ms/step - loss: 0.0091\n",
            "Epoch 71/200\n",
            "78/78 [==============================] - 1s 8ms/step - loss: 0.0093\n",
            "Epoch 72/200\n",
            "78/78 [==============================] - 1s 8ms/step - loss: 0.0092\n",
            "Epoch 73/200\n",
            "78/78 [==============================] - 1s 8ms/step - loss: 0.0092\n",
            "Epoch 74/200\n",
            "78/78 [==============================] - 1s 8ms/step - loss: 0.0091\n",
            "Epoch 75/200\n",
            "78/78 [==============================] - 1s 8ms/step - loss: 0.0094\n",
            "Epoch 76/200\n",
            "78/78 [==============================] - 1s 8ms/step - loss: 0.0090\n",
            "Epoch 77/200\n",
            "78/78 [==============================] - 1s 8ms/step - loss: 0.0091\n",
            "Epoch 78/200\n",
            "78/78 [==============================] - 1s 8ms/step - loss: 0.0091\n",
            "Epoch 79/200\n",
            "78/78 [==============================] - 1s 8ms/step - loss: 0.0090\n",
            "Epoch 80/200\n",
            "78/78 [==============================] - 1s 8ms/step - loss: 0.0091\n",
            "Epoch 81/200\n",
            "78/78 [==============================] - 1s 8ms/step - loss: 0.0090\n",
            "Epoch 82/200\n",
            "78/78 [==============================] - 1s 8ms/step - loss: 0.0088\n",
            "Epoch 83/200\n",
            "78/78 [==============================] - 1s 8ms/step - loss: 0.0089\n",
            "Epoch 84/200\n",
            "78/78 [==============================] - 1s 8ms/step - loss: 0.0086\n",
            "Epoch 85/200\n",
            "78/78 [==============================] - 1s 8ms/step - loss: 0.0088\n",
            "Epoch 86/200\n",
            "78/78 [==============================] - 1s 8ms/step - loss: 0.0088\n",
            "Epoch 87/200\n",
            "78/78 [==============================] - 1s 8ms/step - loss: 0.0087\n",
            "Epoch 88/200\n",
            "78/78 [==============================] - 1s 8ms/step - loss: 0.0087\n",
            "Epoch 89/200\n",
            "78/78 [==============================] - 1s 8ms/step - loss: 0.0085\n",
            "Epoch 90/200\n",
            "78/78 [==============================] - 1s 8ms/step - loss: 0.0085\n",
            "Epoch 91/200\n",
            "78/78 [==============================] - 1s 8ms/step - loss: 0.0086\n",
            "Epoch 92/200\n",
            "78/78 [==============================] - 1s 8ms/step - loss: 0.0086\n",
            "Epoch 93/200\n",
            "78/78 [==============================] - 1s 8ms/step - loss: 0.0085\n",
            "Epoch 94/200\n",
            "78/78 [==============================] - 1s 8ms/step - loss: 0.0085\n",
            "Epoch 95/200\n",
            "78/78 [==============================] - 1s 8ms/step - loss: 0.0083\n",
            "Epoch 96/200\n",
            "78/78 [==============================] - 1s 8ms/step - loss: 0.0084\n",
            "Epoch 97/200\n",
            "78/78 [==============================] - 1s 8ms/step - loss: 0.0084\n",
            "Epoch 98/200\n",
            "78/78 [==============================] - 1s 8ms/step - loss: 0.0084\n",
            "Epoch 99/200\n",
            "78/78 [==============================] - 1s 8ms/step - loss: 0.0083\n",
            "Epoch 100/200\n",
            "78/78 [==============================] - 1s 8ms/step - loss: 0.0081\n",
            "Epoch 101/200\n",
            "78/78 [==============================] - 1s 8ms/step - loss: 0.0081\n",
            "Epoch 102/200\n",
            "78/78 [==============================] - 1s 8ms/step - loss: 0.0081\n",
            "Epoch 103/200\n",
            "78/78 [==============================] - 1s 8ms/step - loss: 0.0081\n",
            "Epoch 104/200\n",
            "78/78 [==============================] - 1s 8ms/step - loss: 0.0082\n",
            "Epoch 105/200\n",
            "78/78 [==============================] - 1s 8ms/step - loss: 0.0081\n",
            "Epoch 106/200\n",
            "78/78 [==============================] - 1s 8ms/step - loss: 0.0083\n",
            "Epoch 107/200\n",
            "78/78 [==============================] - 1s 8ms/step - loss: 0.0079\n",
            "Epoch 108/200\n",
            "78/78 [==============================] - 1s 8ms/step - loss: 0.0081\n",
            "Epoch 109/200\n",
            "78/78 [==============================] - 1s 8ms/step - loss: 0.0080\n",
            "Epoch 110/200\n",
            "78/78 [==============================] - 1s 8ms/step - loss: 0.0080\n",
            "Epoch 111/200\n",
            "78/78 [==============================] - 1s 8ms/step - loss: 0.0078\n",
            "Epoch 112/200\n",
            "78/78 [==============================] - 1s 8ms/step - loss: 0.0079\n",
            "Epoch 113/200\n",
            "78/78 [==============================] - 1s 8ms/step - loss: 0.0078\n",
            "Epoch 114/200\n",
            "78/78 [==============================] - 1s 8ms/step - loss: 0.0077\n",
            "Epoch 115/200\n",
            "78/78 [==============================] - 1s 8ms/step - loss: 0.0077\n",
            "Epoch 116/200\n",
            "78/78 [==============================] - 1s 8ms/step - loss: 0.0078\n",
            "Epoch 117/200\n",
            "78/78 [==============================] - 1s 8ms/step - loss: 0.0077\n",
            "Epoch 118/200\n",
            "78/78 [==============================] - 1s 8ms/step - loss: 0.0076\n",
            "Epoch 119/200\n",
            "78/78 [==============================] - 1s 8ms/step - loss: 0.0076\n",
            "Epoch 120/200\n",
            "78/78 [==============================] - 1s 8ms/step - loss: 0.0075\n",
            "Epoch 121/200\n",
            "78/78 [==============================] - 1s 8ms/step - loss: 0.0075\n",
            "Epoch 122/200\n",
            "78/78 [==============================] - 1s 8ms/step - loss: 0.0081\n",
            "Epoch 123/200\n",
            "78/78 [==============================] - 1s 8ms/step - loss: 0.0076\n",
            "Epoch 124/200\n",
            "78/78 [==============================] - 1s 8ms/step - loss: 0.0076\n",
            "Epoch 125/200\n",
            "78/78 [==============================] - 1s 8ms/step - loss: 0.0075\n",
            "Epoch 126/200\n",
            "78/78 [==============================] - 1s 8ms/step - loss: 0.0074\n",
            "Epoch 127/200\n",
            "78/78 [==============================] - 1s 8ms/step - loss: 0.0073\n",
            "Epoch 128/200\n",
            "78/78 [==============================] - 1s 8ms/step - loss: 0.0074\n",
            "Epoch 129/200\n",
            "78/78 [==============================] - 1s 8ms/step - loss: 0.0076\n",
            "Epoch 130/200\n",
            "78/78 [==============================] - 1s 8ms/step - loss: 0.0075\n",
            "Epoch 131/200\n",
            "78/78 [==============================] - 1s 8ms/step - loss: 0.0075\n",
            "Epoch 132/200\n",
            "78/78 [==============================] - 1s 8ms/step - loss: 0.0074\n",
            "Epoch 133/200\n",
            "78/78 [==============================] - 1s 8ms/step - loss: 0.0074\n",
            "Epoch 134/200\n",
            "78/78 [==============================] - 1s 8ms/step - loss: 0.0073\n",
            "Epoch 135/200\n",
            "78/78 [==============================] - 1s 8ms/step - loss: 0.0074\n",
            "Epoch 136/200\n",
            "78/78 [==============================] - 1s 8ms/step - loss: 0.0073\n",
            "Epoch 137/200\n",
            "78/78 [==============================] - 1s 8ms/step - loss: 0.0073\n",
            "Epoch 138/200\n",
            "78/78 [==============================] - 1s 8ms/step - loss: 0.0073\n",
            "Epoch 139/200\n",
            "78/78 [==============================] - 1s 8ms/step - loss: 0.0076\n",
            "Epoch 140/200\n",
            "78/78 [==============================] - 1s 8ms/step - loss: 0.0081\n",
            "Epoch 141/200\n",
            "78/78 [==============================] - 1s 8ms/step - loss: 0.0074\n",
            "Epoch 142/200\n",
            "78/78 [==============================] - 1s 8ms/step - loss: 0.0072\n",
            "Epoch 143/200\n",
            "78/78 [==============================] - 1s 8ms/step - loss: 0.0072\n",
            "Epoch 144/200\n",
            "78/78 [==============================] - 1s 8ms/step - loss: 0.0073\n",
            "Epoch 145/200\n",
            "78/78 [==============================] - 1s 8ms/step - loss: 0.0074\n",
            "Epoch 146/200\n",
            "78/78 [==============================] - 1s 8ms/step - loss: 0.0073\n",
            "Epoch 147/200\n",
            "78/78 [==============================] - 1s 8ms/step - loss: 0.0072\n",
            "Epoch 148/200\n",
            "78/78 [==============================] - 1s 8ms/step - loss: 0.0073\n",
            "Epoch 149/200\n",
            "78/78 [==============================] - 1s 8ms/step - loss: 0.0070\n",
            "Epoch 150/200\n",
            "78/78 [==============================] - 1s 8ms/step - loss: 0.0069\n",
            "Epoch 151/200\n",
            "78/78 [==============================] - 1s 8ms/step - loss: 0.0074\n",
            "Epoch 152/200\n",
            "78/78 [==============================] - 1s 8ms/step - loss: 0.0070\n",
            "Epoch 153/200\n",
            "78/78 [==============================] - 1s 8ms/step - loss: 0.0070\n",
            "Epoch 154/200\n",
            "78/78 [==============================] - 1s 8ms/step - loss: 0.0071\n",
            "Epoch 155/200\n",
            "78/78 [==============================] - 1s 8ms/step - loss: 0.0071\n",
            "Epoch 156/200\n",
            "78/78 [==============================] - 1s 8ms/step - loss: 0.0071\n",
            "Epoch 157/200\n",
            "78/78 [==============================] - 1s 8ms/step - loss: 0.0070\n",
            "Epoch 158/200\n",
            "78/78 [==============================] - 1s 8ms/step - loss: 0.0070\n",
            "Epoch 159/200\n",
            "78/78 [==============================] - 1s 8ms/step - loss: 0.0069\n",
            "Epoch 160/200\n",
            "78/78 [==============================] - 1s 8ms/step - loss: 0.0071\n",
            "Epoch 161/200\n",
            "78/78 [==============================] - 1s 8ms/step - loss: 0.0068\n",
            "Epoch 162/200\n",
            "78/78 [==============================] - 1s 8ms/step - loss: 0.0072\n",
            "Epoch 163/200\n",
            "78/78 [==============================] - 1s 8ms/step - loss: 0.0069\n",
            "Epoch 164/200\n",
            "78/78 [==============================] - 1s 8ms/step - loss: 0.0071\n",
            "Epoch 165/200\n",
            "78/78 [==============================] - 1s 8ms/step - loss: 0.0071\n",
            "Epoch 166/200\n",
            "78/78 [==============================] - 1s 8ms/step - loss: 0.0070\n",
            "Epoch 167/200\n",
            "78/78 [==============================] - 1s 8ms/step - loss: 0.0071\n",
            "Epoch 168/200\n",
            "78/78 [==============================] - 1s 8ms/step - loss: 0.0070\n",
            "Epoch 169/200\n",
            "78/78 [==============================] - 1s 8ms/step - loss: 0.0071\n",
            "Epoch 170/200\n",
            "78/78 [==============================] - 1s 8ms/step - loss: 0.0070\n",
            "Epoch 171/200\n",
            "78/78 [==============================] - 1s 8ms/step - loss: 0.0069\n",
            "Epoch 172/200\n",
            "78/78 [==============================] - 1s 8ms/step - loss: 0.0071\n",
            "Epoch 173/200\n",
            "78/78 [==============================] - 1s 8ms/step - loss: 0.0070\n",
            "Epoch 174/200\n",
            "78/78 [==============================] - 1s 8ms/step - loss: 0.0070\n",
            "Epoch 175/200\n",
            "78/78 [==============================] - 1s 8ms/step - loss: 0.0074\n",
            "Epoch 176/200\n",
            "78/78 [==============================] - 1s 8ms/step - loss: 0.0071\n",
            "Epoch 177/200\n",
            "78/78 [==============================] - 1s 8ms/step - loss: 0.0070\n",
            "Epoch 178/200\n",
            "78/78 [==============================] - 1s 8ms/step - loss: 0.0068\n",
            "Epoch 179/200\n",
            "78/78 [==============================] - 1s 8ms/step - loss: 0.0072\n",
            "Epoch 180/200\n",
            "78/78 [==============================] - 1s 8ms/step - loss: 0.0069\n",
            "Epoch 181/200\n",
            "78/78 [==============================] - 1s 8ms/step - loss: 0.0069\n",
            "Epoch 182/200\n",
            "78/78 [==============================] - 1s 8ms/step - loss: 0.0070\n",
            "Epoch 183/200\n",
            "78/78 [==============================] - 1s 8ms/step - loss: 0.0072\n",
            "Epoch 184/200\n",
            "78/78 [==============================] - 1s 8ms/step - loss: 0.0068\n",
            "Epoch 185/200\n",
            "78/78 [==============================] - 1s 8ms/step - loss: 0.0067\n",
            "Epoch 186/200\n",
            "78/78 [==============================] - 1s 8ms/step - loss: 0.0069\n",
            "Epoch 187/200\n",
            "78/78 [==============================] - 1s 8ms/step - loss: 0.0070\n",
            "Epoch 188/200\n",
            "78/78 [==============================] - 1s 8ms/step - loss: 0.0069\n",
            "Epoch 189/200\n",
            "78/78 [==============================] - 1s 8ms/step - loss: 0.0069\n",
            "Epoch 190/200\n",
            "78/78 [==============================] - 1s 8ms/step - loss: 0.0068\n",
            "Epoch 191/200\n",
            "78/78 [==============================] - 1s 8ms/step - loss: 0.0069\n",
            "Epoch 192/200\n",
            "78/78 [==============================] - 1s 8ms/step - loss: 0.0070\n",
            "Epoch 193/200\n",
            "78/78 [==============================] - 1s 8ms/step - loss: 0.0072\n",
            "Epoch 194/200\n",
            "78/78 [==============================] - 1s 8ms/step - loss: 0.0069\n",
            "Epoch 195/200\n",
            "78/78 [==============================] - 1s 8ms/step - loss: 0.0070\n",
            "Epoch 196/200\n",
            "78/78 [==============================] - 1s 8ms/step - loss: 0.0066\n",
            "Epoch 197/200\n",
            "78/78 [==============================] - 1s 8ms/step - loss: 0.0068\n",
            "Epoch 198/200\n",
            "78/78 [==============================] - 1s 8ms/step - loss: 0.0068\n",
            "Epoch 199/200\n",
            "78/78 [==============================] - 1s 8ms/step - loss: 0.0068\n",
            "Epoch 200/200\n",
            "78/78 [==============================] - 1s 8ms/step - loss: 0.0068\n"
          ],
          "name": "stdout"
        }
      ]
    },
    {
      "cell_type": "code",
      "metadata": {
        "id": "lP9FOC6uYyJx",
        "colab_type": "code",
        "colab": {
          "base_uri": "https://localhost:8080/",
          "height": 513
        },
        "outputId": "45b4a9a7-2724-4368-e116-e97e8096f453"
      },
      "source": [
        "plt.figure(figsize = (12, 8))\n",
        "plt.plot(history.history[\"loss\"], label = \"Training loss\")\n",
        "plt.title(\"Loss analysis\")\n",
        "plt.xlabel(\"Epoch\")\n",
        "plt.ylabel(\"Loss\")\n",
        "plt.legend([\"Train\"])\n",
        "plt.grid(\"both\")"
      ],
      "execution_count": 225,
      "outputs": [
        {
          "output_type": "display_data",
          "data": {
            "image/png": "[encoded data removed]",
            "text/plain": [
              "<Figure size 864x576 with 1 Axes>"
            ]
          },
          "metadata": {
            "tags": [],
            "needs_background": "light"
          }
        }
      ]
    },
    {
      "cell_type": "code",
      "metadata": {
        "id": "YtW3bPjFY52r",
        "colab_type": "code",
        "colab": {}
      },
      "source": [
        "model_json = model.to_json()\n",
        "with open(\"amazon_stockVolume_model.json\", \"w\") as json_file:\n",
        "  json_file.write(model_json)\n",
        "\n",
        "model.save_weights(\"amazon_stockVolume_model.h5\")"
      ],
      "execution_count": 0,
      "outputs": []
    },
    {
      "cell_type": "code",
      "metadata": {
        "id": "GvJgpZilY_5G",
        "colab_type": "code",
        "colab": {}
      },
      "source": [
        "test = pd.DataFrame(pd.read_csv(\"/content/drive/My Drive/Datasets/Stock Prices/Amazon stock prices/AMZNtest.csv\"))\n",
        "train = pd.DataFrame(pd.read_csv(\"/content/drive/My Drive/Datasets/Stock Prices/Amazon stock prices/AMZNtrain.csv\"))"
      ],
      "execution_count": 0,
      "outputs": []
    },
    {
      "cell_type": "code",
      "metadata": {
        "id": "ZC6XuYlGZC1B",
        "colab_type": "code",
        "colab": {
          "base_uri": "https://localhost:8080/",
          "height": 516
        },
        "outputId": "8cb100dd-9acd-419a-ffab-17e57eec40c3"
      },
      "source": [
        "plt.figure(figsize = (12, 8))\n",
        "plt.subplot(1,1,1)\n",
        "plt.plot(test.Volume.values, color = \"red\", label = \"Actual Stock Volume\")\n",
        "plt.grid(\"both\")\n",
        "plt.title(\"Real Amazon Prices for the next 21 days\")\n",
        "plt.legend()"
      ],
      "execution_count": 228,
      "outputs": [
        {
          "output_type": "execute_result",
          "data": {
            "text/plain": [
              "<matplotlib.legend.Legend at 0x7f7a1de26f28>"
            ]
          },
          "metadata": {
            "tags": []
          },
          "execution_count": 228
        },
        {
          "output_type": "display_data",
          "data": {
            "image/png": "[encoded data removed]",
            "text/plain": [
              "<Figure size 864x576 with 1 Axes>"
            ]
          },
          "metadata": {
            "tags": [],
            "needs_background": "light"
          }
        }
      ]
    },
    {
      "cell_type": "code",
      "metadata": {
        "id": "WnCvjEnKZV-f",
        "colab_type": "code",
        "colab": {}
      },
      "source": [
        "test.drop([\"Open\",\"Date\", \"Adj Close\", \"High\", \"Low\", \"Close\"], axis = 1, inplace = True)\n",
        "train.drop([\"Open\",\"Date\", \"Adj Close\", \"High\", \"Low\", \"Close\"], axis = 1, inplace = True)"
      ],
      "execution_count": 0,
      "outputs": []
    },
    {
      "cell_type": "code",
      "metadata": {
        "id": "sjh39VliZcRl",
        "colab_type": "code",
        "colab": {}
      },
      "source": [
        "real_volume = test.values"
      ],
      "execution_count": 0,
      "outputs": []
    },
    {
      "cell_type": "code",
      "metadata": {
        "id": "K9fVZgpuZfBi",
        "colab_type": "code",
        "colab": {}
      },
      "source": [
        "dataset_total = pd.concat((train[\"Volume\"], test[\"Volume\"]), axis = 0)"
      ],
      "execution_count": 0,
      "outputs": []
    },
    {
      "cell_type": "code",
      "metadata": {
        "id": "ws7HnMYDZnB2",
        "colab_type": "code",
        "colab": {}
      },
      "source": [
        "inputs = dataset_total[len(dataset_total) - len(test) - time_step : ].values"
      ],
      "execution_count": 0,
      "outputs": []
    },
    {
      "cell_type": "code",
      "metadata": {
        "id": "IyOsxxEzZpr8",
        "colab_type": "code",
        "colab": {}
      },
      "source": [
        "inputs = inputs.reshape(-1, 1)"
      ],
      "execution_count": 0,
      "outputs": []
    },
    {
      "cell_type": "code",
      "metadata": {
        "id": "vdndgPo0ZrNM",
        "colab_type": "code",
        "colab": {}
      },
      "source": [
        "inputs = scaler.fit_transform(inputs)"
      ],
      "execution_count": 0,
      "outputs": []
    },
    {
      "cell_type": "code",
      "metadata": {
        "id": "a420Zkv1ZsrV",
        "colab_type": "code",
        "colab": {
          "base_uri": "https://localhost:8080/",
          "height": 34
        },
        "outputId": "9ae51fa6-932e-4c4c-c26f-8a5bcad9efb9"
      },
      "source": [
        "inputs.shape"
      ],
      "execution_count": 235,
      "outputs": [
        {
          "output_type": "execute_result",
          "data": {
            "text/plain": [
              "(41, 1)"
            ]
          },
          "metadata": {
            "tags": []
          },
          "execution_count": 235
        }
      ]
    },
    {
      "cell_type": "code",
      "metadata": {
        "id": "qZwRmC0kZuJn",
        "colab_type": "code",
        "colab": {}
      },
      "source": [
        "x_test = []\n",
        "for i in range(time_step, inputs.shape[0]):\n",
        "  x_test.append(inputs[i - time_step : i , 0])\n",
        "x_test = np.array(x_test)"
      ],
      "execution_count": 0,
      "outputs": []
    },
    {
      "cell_type": "code",
      "metadata": {
        "id": "LySjtquHZwRn",
        "colab_type": "code",
        "colab": {
          "base_uri": "https://localhost:8080/",
          "height": 34
        },
        "outputId": "d3baef20-94c4-4aea-ae0e-14c893461689"
      },
      "source": [
        "x_test.shape"
      ],
      "execution_count": 237,
      "outputs": [
        {
          "output_type": "execute_result",
          "data": {
            "text/plain": [
              "(21, 20)"
            ]
          },
          "metadata": {
            "tags": []
          },
          "execution_count": 237
        }
      ]
    },
    {
      "cell_type": "code",
      "metadata": {
        "id": "iZyig23OZxxs",
        "colab_type": "code",
        "colab": {}
      },
      "source": [
        "x_test = np.reshape(x_test, (x_test.shape[0], x_test.shape[1], 1))"
      ],
      "execution_count": 0,
      "outputs": []
    },
    {
      "cell_type": "code",
      "metadata": {
        "id": "V1uXUr2NZzuY",
        "colab_type": "code",
        "colab": {}
      },
      "source": [
        "predicted_volume = model.predict(x_test)"
      ],
      "execution_count": 0,
      "outputs": []
    },
    {
      "cell_type": "code",
      "metadata": {
        "id": "0xJBcgKIZ2o7",
        "colab_type": "code",
        "colab": {}
      },
      "source": [
        "predicted_volume = scaler.inverse_transform(predicted_volume)"
      ],
      "execution_count": 0,
      "outputs": []
    },
    {
      "cell_type": "code",
      "metadata": {
        "id": "M_QU2SQnZ8FP",
        "colab_type": "code",
        "colab": {
          "base_uri": "https://localhost:8080/",
          "height": 513
        },
        "outputId": "7cd505df-e722-43f1-fa5e-e9d6d1e2401b"
      },
      "source": [
        "plt.figure(figsize= (12, 8))\n",
        "plt.subplot(1,1,1)\n",
        "plt.plot(real_volume, color = \"black\", label = \"Real Stock Volume\")\n",
        "plt.plot(predicted_volume, color = \"red\", label = \"Predicted Stock Volume\")\n",
        "plt.title(\"Amazon Stock Volume\")\n",
        "plt.xlabel(\"Time\")\n",
        "plt.ylabel(\"Stock Volume\")\n",
        "plt.legend()\n",
        "plt.grid(\"both\")\n",
        "plt.show()"
      ],
      "execution_count": 241,
      "outputs": [
        {
          "output_type": "display_data",
          "data": {
            "image/png": "[encoded data removed]",
            "text/plain": [
              "<Figure size 864x576 with 1 Axes>"
            ]
          },
          "metadata": {
            "tags": [],
            "needs_background": "light"
          }
        }
      ]
    }
  ]
}