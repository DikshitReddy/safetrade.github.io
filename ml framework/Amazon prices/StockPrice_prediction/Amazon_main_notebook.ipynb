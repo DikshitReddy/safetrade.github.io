{
  "nbformat": 4,
  "nbformat_minor": 0,
  "metadata": {
    "colab": {
      "name": "Amazon_main_notebook.ipynb",
      "provenance": [],
      "collapsed_sections": []
    },
    "kernelspec": {
      "name": "python3",
      "display_name": "Python 3"
    },
    "accelerator": "GPU"
  },
  "cells": [
    {
      "cell_type": "code",
      "metadata": {
        "id": "vIqQiXKWKMVF",
        "colab_type": "code",
        "outputId": "19536229-6944-4d53-890b-abe2a7948188",
        "colab": {
          "base_uri": "https://localhost:8080/",
          "height": 54
        }
      },
      "source": [
        "from google.colab import drive\n",
        "drive.mount(\"/content/drive\")"
      ],
      "execution_count": 83,
      "outputs": [
        {
          "output_type": "stream",
          "text": [
            "Drive already mounted at /content/drive; to attempt to forcibly remount, call drive.mount(\"/content/drive\", force_remount=True).\n"
          ],
          "name": "stdout"
        }
      ]
    },
    {
      "cell_type": "code",
      "metadata": {
        "id": "7RvBuTtQLLvG",
        "colab_type": "code",
        "colab": {}
      },
      "source": [
        "import numpy as np\n",
        "import pandas as pd\n",
        "import matplotlib.pyplot as plt\n",
        "import seaborn as sns\n",
        "%matplotlib inline"
      ],
      "execution_count": 0,
      "outputs": []
    },
    {
      "cell_type": "code",
      "metadata": {
        "id": "L3oNaQbQMAMr",
        "colab_type": "code",
        "colab": {}
      },
      "source": [
        "train = pd.DataFrame(pd.read_csv(\"/content/drive/My Drive/Datasets/Stock Prices/Amazon stock prices/AMZNtrain.csv\"))"
      ],
      "execution_count": 0,
      "outputs": []
    },
    {
      "cell_type": "code",
      "metadata": {
        "id": "1CnCc2wRMGS2",
        "colab_type": "code",
        "outputId": "ab356fe8-6137-4d3b-beef-0c3fdcf9143b",
        "colab": {
          "base_uri": "https://localhost:8080/",
          "height": 204
        }
      },
      "source": [
        "train.head()"
      ],
      "execution_count": 86,
      "outputs": [
        {
          "output_type": "execute_result",
          "data": {
            "text/html": [
              "<div>\n",
              "<style scoped>\n",
              "    .dataframe tbody tr th:only-of-type {\n",
              "        vertical-align: middle;\n",
              "    }\n",
              "\n",
              "    .dataframe tbody tr th {\n",
              "        vertical-align: top;\n",
              "    }\n",
              "\n",
              "    .dataframe thead th {\n",
              "        text-align: right;\n",
              "    }\n",
              "</style>\n",
              "<table border=\"1\" class=\"dataframe\">\n",
              "  <thead>\n",
              "    <tr style=\"text-align: right;\">\n",
              "      <th></th>\n",
              "      <th>Date</th>\n",
              "      <th>Open</th>\n",
              "      <th>High</th>\n",
              "      <th>Low</th>\n",
              "      <th>Close</th>\n",
              "      <th>Adj Close</th>\n",
              "      <th>Volume</th>\n",
              "    </tr>\n",
              "  </thead>\n",
              "  <tbody>\n",
              "    <tr>\n",
              "      <th>0</th>\n",
              "      <td>2014-01-02</td>\n",
              "      <td>398.799988</td>\n",
              "      <td>399.359985</td>\n",
              "      <td>394.019989</td>\n",
              "      <td>397.970001</td>\n",
              "      <td>397.970001</td>\n",
              "      <td>2137800</td>\n",
              "    </tr>\n",
              "    <tr>\n",
              "      <th>1</th>\n",
              "      <td>2014-01-03</td>\n",
              "      <td>398.290009</td>\n",
              "      <td>402.709991</td>\n",
              "      <td>396.220001</td>\n",
              "      <td>396.440002</td>\n",
              "      <td>396.440002</td>\n",
              "      <td>2210200</td>\n",
              "    </tr>\n",
              "    <tr>\n",
              "      <th>2</th>\n",
              "      <td>2014-01-06</td>\n",
              "      <td>395.850006</td>\n",
              "      <td>397.000000</td>\n",
              "      <td>388.420013</td>\n",
              "      <td>393.630005</td>\n",
              "      <td>393.630005</td>\n",
              "      <td>3170600</td>\n",
              "    </tr>\n",
              "    <tr>\n",
              "      <th>3</th>\n",
              "      <td>2014-01-07</td>\n",
              "      <td>395.040009</td>\n",
              "      <td>398.470001</td>\n",
              "      <td>394.290009</td>\n",
              "      <td>398.029999</td>\n",
              "      <td>398.029999</td>\n",
              "      <td>1916000</td>\n",
              "    </tr>\n",
              "    <tr>\n",
              "      <th>4</th>\n",
              "      <td>2014-01-08</td>\n",
              "      <td>398.470001</td>\n",
              "      <td>403.000000</td>\n",
              "      <td>396.040009</td>\n",
              "      <td>401.920013</td>\n",
              "      <td>401.920013</td>\n",
              "      <td>2316500</td>\n",
              "    </tr>\n",
              "  </tbody>\n",
              "</table>\n",
              "</div>"
            ],
            "text/plain": [
              "         Date        Open        High  ...       Close   Adj Close   Volume\n",
              "0  2014-01-02  398.799988  399.359985  ...  397.970001  397.970001  2137800\n",
              "1  2014-01-03  398.290009  402.709991  ...  396.440002  396.440002  2210200\n",
              "2  2014-01-06  395.850006  397.000000  ...  393.630005  393.630005  3170600\n",
              "3  2014-01-07  395.040009  398.470001  ...  398.029999  398.029999  1916000\n",
              "4  2014-01-08  398.470001  403.000000  ...  401.920013  401.920013  2316500\n",
              "\n",
              "[5 rows x 7 columns]"
            ]
          },
          "metadata": {
            "tags": []
          },
          "execution_count": 86
        }
      ]
    },
    {
      "cell_type": "code",
      "metadata": {
        "id": "0QuATzs2MIiR",
        "colab_type": "code",
        "outputId": "ca153f7c-9123-4f2e-c964-1bd3a9825b3d",
        "colab": {
          "base_uri": "https://localhost:8080/",
          "height": 204
        }
      },
      "source": [
        "train.tail()"
      ],
      "execution_count": 87,
      "outputs": [
        {
          "output_type": "execute_result",
          "data": {
            "text/html": [
              "<div>\n",
              "<style scoped>\n",
              "    .dataframe tbody tr th:only-of-type {\n",
              "        vertical-align: middle;\n",
              "    }\n",
              "\n",
              "    .dataframe tbody tr th {\n",
              "        vertical-align: top;\n",
              "    }\n",
              "\n",
              "    .dataframe thead th {\n",
              "        text-align: right;\n",
              "    }\n",
              "</style>\n",
              "<table border=\"1\" class=\"dataframe\">\n",
              "  <thead>\n",
              "    <tr style=\"text-align: right;\">\n",
              "      <th></th>\n",
              "      <th>Date</th>\n",
              "      <th>Open</th>\n",
              "      <th>High</th>\n",
              "      <th>Low</th>\n",
              "      <th>Close</th>\n",
              "      <th>Adj Close</th>\n",
              "      <th>Volume</th>\n",
              "    </tr>\n",
              "  </thead>\n",
              "  <tbody>\n",
              "    <tr>\n",
              "      <th>1253</th>\n",
              "      <td>2018-12-24</td>\n",
              "      <td>1346.000000</td>\n",
              "      <td>1396.030029</td>\n",
              "      <td>1307.000000</td>\n",
              "      <td>1343.959961</td>\n",
              "      <td>1343.959961</td>\n",
              "      <td>7220000</td>\n",
              "    </tr>\n",
              "    <tr>\n",
              "      <th>1254</th>\n",
              "      <td>2018-12-26</td>\n",
              "      <td>1368.890015</td>\n",
              "      <td>1473.160034</td>\n",
              "      <td>1363.010010</td>\n",
              "      <td>1470.900024</td>\n",
              "      <td>1470.900024</td>\n",
              "      <td>10411800</td>\n",
              "    </tr>\n",
              "    <tr>\n",
              "      <th>1255</th>\n",
              "      <td>2018-12-27</td>\n",
              "      <td>1454.199951</td>\n",
              "      <td>1469.000000</td>\n",
              "      <td>1390.310059</td>\n",
              "      <td>1461.640015</td>\n",
              "      <td>1461.640015</td>\n",
              "      <td>9722000</td>\n",
              "    </tr>\n",
              "    <tr>\n",
              "      <th>1256</th>\n",
              "      <td>2018-12-28</td>\n",
              "      <td>1473.349976</td>\n",
              "      <td>1513.469971</td>\n",
              "      <td>1449.000000</td>\n",
              "      <td>1478.020020</td>\n",
              "      <td>1478.020020</td>\n",
              "      <td>8829000</td>\n",
              "    </tr>\n",
              "    <tr>\n",
              "      <th>1257</th>\n",
              "      <td>2018-12-31</td>\n",
              "      <td>1510.800049</td>\n",
              "      <td>1520.760010</td>\n",
              "      <td>1487.000000</td>\n",
              "      <td>1501.969971</td>\n",
              "      <td>1501.969971</td>\n",
              "      <td>6954500</td>\n",
              "    </tr>\n",
              "  </tbody>\n",
              "</table>\n",
              "</div>"
            ],
            "text/plain": [
              "            Date         Open         High  ...        Close    Adj Close    Volume\n",
              "1253  2018-12-24  1346.000000  1396.030029  ...  1343.959961  1343.959961   7220000\n",
              "1254  2018-12-26  1368.890015  1473.160034  ...  1470.900024  1470.900024  10411800\n",
              "1255  2018-12-27  1454.199951  1469.000000  ...  1461.640015  1461.640015   9722000\n",
              "1256  2018-12-28  1473.349976  1513.469971  ...  1478.020020  1478.020020   8829000\n",
              "1257  2018-12-31  1510.800049  1520.760010  ...  1501.969971  1501.969971   6954500\n",
              "\n",
              "[5 rows x 7 columns]"
            ]
          },
          "metadata": {
            "tags": []
          },
          "execution_count": 87
        }
      ]
    },
    {
      "cell_type": "code",
      "metadata": {
        "id": "yDb1EhjvMMIc",
        "colab_type": "code",
        "outputId": "46402fc8-262f-4891-92a3-868acbd14a05",
        "colab": {
          "base_uri": "https://localhost:8080/",
          "height": 34
        }
      },
      "source": [
        "print(\"The shape of training data = {}\".format(train.shape))"
      ],
      "execution_count": 88,
      "outputs": [
        {
          "output_type": "stream",
          "text": [
            "The shape of training data = (1258, 7)\n"
          ],
          "name": "stdout"
        }
      ]
    },
    {
      "cell_type": "code",
      "metadata": {
        "id": "ui4xJESqGO1z",
        "colab_type": "code",
        "outputId": "7af209a4-cc96-46e3-a28d-fba9f49af4ca",
        "colab": {
          "base_uri": "https://localhost:8080/",
          "height": 601
        }
      },
      "source": [
        "plt.figure(figsize = (10, 10))\n",
        "sns.heatmap(train.corr(), annot = True, fmt = \".1g\", vmin = -1, vmax = 1, center = 0, linewidths = 3, linecolor = \"black\", square = True)"
      ],
      "execution_count": 89,
      "outputs": [
        {
          "output_type": "execute_result",
          "data": {
            "text/plain": [
              "<matplotlib.axes._subplots.AxesSubplot at 0x7f510b1c25f8>"
            ]
          },
          "metadata": {
            "tags": []
          },
          "execution_count": 89
        },
        {
          "output_type": "display_data",
          "data": {
            "image/png": "[encoded data removed]",
            "text/plain": [
              "<Figure size 720x720 with 2 Axes>"
            ]
          },
          "metadata": {
            "tags": [],
            "needs_background": "light"
          }
        }
      ]
    },
    {
      "cell_type": "code",
      "metadata": {
        "id": "rkWw7ynd4vqv",
        "colab_type": "code",
        "outputId": "b8f54d9c-e59f-4b18-b576-bc2d96dadeeb",
        "colab": {
          "base_uri": "https://localhost:8080/",
          "height": 297
        }
      },
      "source": [
        "train.describe()"
      ],
      "execution_count": 90,
      "outputs": [
        {
          "output_type": "execute_result",
          "data": {
            "text/html": [
              "<div>\n",
              "<style scoped>\n",
              "    .dataframe tbody tr th:only-of-type {\n",
              "        vertical-align: middle;\n",
              "    }\n",
              "\n",
              "    .dataframe tbody tr th {\n",
              "        vertical-align: top;\n",
              "    }\n",
              "\n",
              "    .dataframe thead th {\n",
              "        text-align: right;\n",
              "    }\n",
              "</style>\n",
              "<table border=\"1\" class=\"dataframe\">\n",
              "  <thead>\n",
              "    <tr style=\"text-align: right;\">\n",
              "      <th></th>\n",
              "      <th>Open</th>\n",
              "      <th>High</th>\n",
              "      <th>Low</th>\n",
              "      <th>Close</th>\n",
              "      <th>Adj Close</th>\n",
              "      <th>Volume</th>\n",
              "    </tr>\n",
              "  </thead>\n",
              "  <tbody>\n",
              "    <tr>\n",
              "      <th>count</th>\n",
              "      <td>1258.000000</td>\n",
              "      <td>1258.000000</td>\n",
              "      <td>1258.000000</td>\n",
              "      <td>1258.000000</td>\n",
              "      <td>1258.000000</td>\n",
              "      <td>1.258000e+03</td>\n",
              "    </tr>\n",
              "    <tr>\n",
              "      <th>mean</th>\n",
              "      <td>823.840056</td>\n",
              "      <td>831.762583</td>\n",
              "      <td>814.173943</td>\n",
              "      <td>823.256543</td>\n",
              "      <td>823.256543</td>\n",
              "      <td>4.231814e+06</td>\n",
              "    </tr>\n",
              "    <tr>\n",
              "      <th>std</th>\n",
              "      <td>477.931392</td>\n",
              "      <td>482.851261</td>\n",
              "      <td>471.058235</td>\n",
              "      <td>476.952699</td>\n",
              "      <td>476.952699</td>\n",
              "      <td>2.400533e+06</td>\n",
              "    </tr>\n",
              "    <tr>\n",
              "      <th>min</th>\n",
              "      <td>284.399994</td>\n",
              "      <td>290.420013</td>\n",
              "      <td>284.000000</td>\n",
              "      <td>286.950012</td>\n",
              "      <td>286.950012</td>\n",
              "      <td>1.093000e+06</td>\n",
              "    </tr>\n",
              "    <tr>\n",
              "      <th>25%</th>\n",
              "      <td>393.892494</td>\n",
              "      <td>398.795006</td>\n",
              "      <td>388.427513</td>\n",
              "      <td>394.772492</td>\n",
              "      <td>394.772492</td>\n",
              "      <td>2.713950e+06</td>\n",
              "    </tr>\n",
              "    <tr>\n",
              "      <th>50%</th>\n",
              "      <td>726.450012</td>\n",
              "      <td>729.779999</td>\n",
              "      <td>720.079986</td>\n",
              "      <td>727.190002</td>\n",
              "      <td>727.190002</td>\n",
              "      <td>3.582300e+06</td>\n",
              "    </tr>\n",
              "    <tr>\n",
              "      <th>75%</th>\n",
              "      <td>1005.860016</td>\n",
              "      <td>1009.742493</td>\n",
              "      <td>997.122513</td>\n",
              "      <td>1002.762496</td>\n",
              "      <td>1002.762496</td>\n",
              "      <td>4.857900e+06</td>\n",
              "    </tr>\n",
              "    <tr>\n",
              "      <th>max</th>\n",
              "      <td>2038.109985</td>\n",
              "      <td>2050.500000</td>\n",
              "      <td>2013.000000</td>\n",
              "      <td>2039.510010</td>\n",
              "      <td>2039.510010</td>\n",
              "      <td>2.385610e+07</td>\n",
              "    </tr>\n",
              "  </tbody>\n",
              "</table>\n",
              "</div>"
            ],
            "text/plain": [
              "              Open         High  ...    Adj Close        Volume\n",
              "count  1258.000000  1258.000000  ...  1258.000000  1.258000e+03\n",
              "mean    823.840056   831.762583  ...   823.256543  4.231814e+06\n",
              "std     477.931392   482.851261  ...   476.952699  2.400533e+06\n",
              "min     284.399994   290.420013  ...   286.950012  1.093000e+06\n",
              "25%     393.892494   398.795006  ...   394.772492  2.713950e+06\n",
              "50%     726.450012   729.779999  ...   727.190002  3.582300e+06\n",
              "75%    1005.860016  1009.742493  ...  1002.762496  4.857900e+06\n",
              "max    2038.109985  2050.500000  ...  2039.510010  2.385610e+07\n",
              "\n",
              "[8 rows x 6 columns]"
            ]
          },
          "metadata": {
            "tags": []
          },
          "execution_count": 90
        }
      ]
    },
    {
      "cell_type": "code",
      "metadata": {
        "id": "Xx6ITrc1505V",
        "colab_type": "code",
        "outputId": "e5ca6119-c1b5-4b29-d21e-2b63ec3ab4e2",
        "colab": {
          "base_uri": "https://localhost:8080/",
          "height": 255
        }
      },
      "source": [
        "train.info()"
      ],
      "execution_count": 91,
      "outputs": [
        {
          "output_type": "stream",
          "text": [
            "<class 'pandas.core.frame.DataFrame'>\n",
            "RangeIndex: 1258 entries, 0 to 1257\n",
            "Data columns (total 7 columns):\n",
            " #   Column     Non-Null Count  Dtype  \n",
            "---  ------     --------------  -----  \n",
            " 0   Date       1258 non-null   object \n",
            " 1   Open       1258 non-null   float64\n",
            " 2   High       1258 non-null   float64\n",
            " 3   Low        1258 non-null   float64\n",
            " 4   Close      1258 non-null   float64\n",
            " 5   Adj Close  1258 non-null   float64\n",
            " 6   Volume     1258 non-null   int64  \n",
            "dtypes: float64(5), int64(1), object(1)\n",
            "memory usage: 68.9+ KB\n"
          ],
          "name": "stdout"
        }
      ]
    },
    {
      "cell_type": "code",
      "metadata": {
        "id": "htE4XPPC6h96",
        "colab_type": "code",
        "outputId": "d687d985-8bfa-41d0-fe26-fd4e35f0f8cd",
        "colab": {
          "base_uri": "https://localhost:8080/",
          "height": 350
        }
      },
      "source": [
        "plt.figure(figsize = (15, 5))\n",
        "plt.subplot(2,1,1)\n",
        "plt.plot(train.Open.values, color = \"red\", label = \"Open Stock Price\")\n",
        "plt.plot(train.Close.values, color = \"green\", label = \"Closed Stock Price\")\n",
        "plt.plot(train.High.values, color = \"blue\", label = \"High Price\")\n",
        "plt.plot(train.Low.values, color = \"magenta\", label = \"Low Price\")\n",
        "plt.title(\"Amazon Stock Price Analysis\")\n",
        "plt.xlabel(\"time in days\")\n",
        "plt.ylabel(\"Stock price\")\n",
        "plt.legend(loc = \"best\")\n",
        "plt.grid(which = \"major\", axis = \"both\")\n",
        "\n",
        "plt.subplot(2,1,2)\n",
        "plt.plot(train.Volume.values, color= \"black\", label = \"Stock volume\")\n",
        "plt.title(\"Stock Volume\")\n",
        "plt.xlabel(\"time in days\")\n",
        "plt.ylabel(\"Volume\")\n",
        "plt.legend(loc = \"best\")\n",
        "plt.grid(which = \"major\", axis = \"both\")\n",
        "plt.show()"
      ],
      "execution_count": 92,
      "outputs": [
        {
          "output_type": "display_data",
          "data": {
            "image/png": "[encoded data removed]",
            "text/plain": [
              "<Figure size 1080x360 with 2 Axes>"
            ]
          },
          "metadata": {
            "tags": [],
            "needs_background": "light"
          }
        }
      ]
    },
    {
      "cell_type": "code",
      "metadata": {
        "id": "vb7rOdhW8OGq",
        "colab_type": "code",
        "colab": {}
      },
      "source": [
        "train.drop([\"Volume\",\"Date\", \"Adj Close\", \"High\", \"Low\", \"Close\"], axis = 1, inplace = True)"
      ],
      "execution_count": 0,
      "outputs": []
    },
    {
      "cell_type": "code",
      "metadata": {
        "id": "Q0LAoloKMBJt",
        "colab_type": "code",
        "colab": {
          "base_uri": "https://localhost:8080/",
          "height": 34
        },
        "outputId": "45aa11cf-bac9-4416-ce47-d867a9f4adec"
      },
      "source": [
        "train.shape"
      ],
      "execution_count": 94,
      "outputs": [
        {
          "output_type": "execute_result",
          "data": {
            "text/plain": [
              "(1258, 1)"
            ]
          },
          "metadata": {
            "tags": []
          },
          "execution_count": 94
        }
      ]
    },
    {
      "cell_type": "code",
      "metadata": {
        "id": "3VPS1gZkMHDq",
        "colab_type": "code",
        "colab": {}
      },
      "source": [
        "train = train.values"
      ],
      "execution_count": 0,
      "outputs": []
    },
    {
      "cell_type": "code",
      "metadata": {
        "id": "3NS2BpdbMQNH",
        "colab_type": "code",
        "colab": {
          "base_uri": "https://localhost:8080/",
          "height": 34
        },
        "outputId": "62c4c3d8-f451-42e7-e008-780714afdc2a"
      },
      "source": [
        "type(train)"
      ],
      "execution_count": 96,
      "outputs": [
        {
          "output_type": "execute_result",
          "data": {
            "text/plain": [
              "numpy.ndarray"
            ]
          },
          "metadata": {
            "tags": []
          },
          "execution_count": 96
        }
      ]
    },
    {
      "cell_type": "code",
      "metadata": {
        "id": "Fygxye0fMUP7",
        "colab_type": "code",
        "colab": {
          "base_uri": "https://localhost:8080/",
          "height": 136
        },
        "outputId": "bf485e1f-3680-4f13-e6f8-6e1934e57eee"
      },
      "source": [
        "train"
      ],
      "execution_count": 97,
      "outputs": [
        {
          "output_type": "execute_result",
          "data": {
            "text/plain": [
              "array([[ 398.799988],\n",
              "       [ 398.290009],\n",
              "       [ 395.850006],\n",
              "       ...,\n",
              "       [1454.199951],\n",
              "       [1473.349976],\n",
              "       [1510.800049]])"
            ]
          },
          "metadata": {
            "tags": []
          },
          "execution_count": 97
        }
      ]
    },
    {
      "cell_type": "code",
      "metadata": {
        "id": "IDoy2ySUMVqK",
        "colab_type": "code",
        "colab": {}
      },
      "source": [
        "import sklearn\n",
        "from sklearn.preprocessing import MinMaxScaler\n",
        "scaler = MinMaxScaler(feature_range = (0,1))\n",
        "train_scaled = scaler.fit_transform(train)"
      ],
      "execution_count": 0,
      "outputs": []
    },
    {
      "cell_type": "code",
      "metadata": {
        "id": "VrHE6QeKMtsk",
        "colab_type": "code",
        "colab": {}
      },
      "source": [
        "x_train, y_train = [], []\n",
        "time_step = 40\n",
        "for i in range(time_step, train_scaled.shape[0]):\n",
        "  x_train.append(train_scaled[i-time_step : i , 0])\n",
        "  y_train.append(train_scaled[i, 0])\n",
        "x_train, y_train = np.array(x_train), np.array(y_train)"
      ],
      "execution_count": 0,
      "outputs": []
    },
    {
      "cell_type": "code",
      "metadata": {
        "id": "QrK_CTk7N8NS",
        "colab_type": "code",
        "colab": {
          "base_uri": "https://localhost:8080/",
          "height": 34
        },
        "outputId": "08b85d85-1389-4e6a-971d-585a9244bcfd"
      },
      "source": [
        "x_train.shape"
      ],
      "execution_count": 100,
      "outputs": [
        {
          "output_type": "execute_result",
          "data": {
            "text/plain": [
              "(1218, 40)"
            ]
          },
          "metadata": {
            "tags": []
          },
          "execution_count": 100
        }
      ]
    },
    {
      "cell_type": "code",
      "metadata": {
        "id": "-A41_PmxNnlI",
        "colab_type": "code",
        "colab": {}
      },
      "source": [
        "x_train = np.reshape(x_train, (x_train.shape[0], x_train.shape[1], 1 ))"
      ],
      "execution_count": 0,
      "outputs": []
    },
    {
      "cell_type": "code",
      "metadata": {
        "id": "h6eAI0qSOE5W",
        "colab_type": "code",
        "colab": {}
      },
      "source": [
        "import tensorflow as tf\n",
        "model = tf.keras.Sequential()\n",
        "model.add(tf.keras.layers.LSTM(units = 50, return_sequences = True, input_shape = (x_train.shape[1], 1)))\n",
        "model.add(tf.keras.layers.Dropout(0.2))\n",
        "model.add(tf.keras.layers.LSTM(units = 50, return_sequences = True))\n",
        "model.add(tf.keras.layers.Dropout(0.2))\n",
        "model.add(tf.keras.layers.LSTM(units = 50, return_sequences = True))\n",
        "model.add(tf.keras.layers.Dropout(0.2))\n",
        "model.add(tf.keras.layers.LSTM(units = 50, return_sequences = False))\n",
        "model.add(tf.keras.layers.Dropout(0.2))\n",
        "model.add(tf.keras.layers.Dense(units = 1))"
      ],
      "execution_count": 0,
      "outputs": []
    },
    {
      "cell_type": "code",
      "metadata": {
        "id": "kzNQ6oUIPDEv",
        "colab_type": "code",
        "colab": {}
      },
      "source": [
        "model.compile(tf.keras.optimizers.Adam(lr = 0.001), loss = \"mean_squared_error\")"
      ],
      "execution_count": 0,
      "outputs": []
    },
    {
      "cell_type": "code",
      "metadata": {
        "id": "8rZBeMlwPieM",
        "colab_type": "code",
        "colab": {
          "base_uri": "https://localhost:8080/",
          "height": 459
        },
        "outputId": "f4b4dd8c-b2fb-4fae-8645-50ecbffe12f0"
      },
      "source": [
        "model.summary()"
      ],
      "execution_count": 104,
      "outputs": [
        {
          "output_type": "stream",
          "text": [
            "Model: \"sequential_2\"\n",
            "_________________________________________________________________\n",
            "Layer (type)                 Output Shape              Param #   \n",
            "=================================================================\n",
            "lstm_8 (LSTM)                (None, 40, 50)            10400     \n",
            "_________________________________________________________________\n",
            "dropout_8 (Dropout)          (None, 40, 50)            0         \n",
            "_________________________________________________________________\n",
            "lstm_9 (LSTM)                (None, 40, 50)            20200     \n",
            "_________________________________________________________________\n",
            "dropout_9 (Dropout)          (None, 40, 50)            0         \n",
            "_________________________________________________________________\n",
            "lstm_10 (LSTM)               (None, 40, 50)            20200     \n",
            "_________________________________________________________________\n",
            "dropout_10 (Dropout)         (None, 40, 50)            0         \n",
            "_________________________________________________________________\n",
            "lstm_11 (LSTM)               (None, 50)                20200     \n",
            "_________________________________________________________________\n",
            "dropout_11 (Dropout)         (None, 50)                0         \n",
            "_________________________________________________________________\n",
            "dense_2 (Dense)              (None, 1)                 51        \n",
            "=================================================================\n",
            "Total params: 71,051\n",
            "Trainable params: 71,051\n",
            "Non-trainable params: 0\n",
            "_________________________________________________________________\n"
          ],
          "name": "stdout"
        }
      ]
    },
    {
      "cell_type": "code",
      "metadata": {
        "id": "au9ESQ4wP8pQ",
        "colab_type": "code",
        "colab": {
          "base_uri": "https://localhost:8080/",
          "height": 1000
        },
        "outputId": "222c8379-ef20-4363-a5be-f33dc9c32b2d"
      },
      "source": [
        "with tf.device(\"/device:GPU:0\"):\n",
        "  history = model.fit(x_train, y_train, epochs = 100, batch_size = 16)"
      ],
      "execution_count": 124,
      "outputs": [
        {
          "output_type": "stream",
          "text": [
            "Epoch 1/100\n",
            "77/77 [==============================] - 3s 39ms/step - loss: 0.0012\n",
            "Epoch 2/100\n",
            "77/77 [==============================] - 3s 39ms/step - loss: 0.0013\n",
            "Epoch 3/100\n",
            "77/77 [==============================] - 3s 38ms/step - loss: 0.0012\n",
            "Epoch 4/100\n",
            "77/77 [==============================] - 3s 39ms/step - loss: 0.0011\n",
            "Epoch 5/100\n",
            "77/77 [==============================] - 3s 39ms/step - loss: 0.0012\n",
            "Epoch 6/100\n",
            "77/77 [==============================] - 3s 38ms/step - loss: 0.0012\n",
            "Epoch 7/100\n",
            "77/77 [==============================] - 3s 38ms/step - loss: 0.0011\n",
            "Epoch 8/100\n",
            "77/77 [==============================] - 3s 38ms/step - loss: 0.0011\n",
            "Epoch 9/100\n",
            "77/77 [==============================] - 3s 38ms/step - loss: 0.0013\n",
            "Epoch 10/100\n",
            "77/77 [==============================] - 3s 39ms/step - loss: 0.0012\n",
            "Epoch 11/100\n",
            "77/77 [==============================] - 3s 39ms/step - loss: 0.0012\n",
            "Epoch 12/100\n",
            "77/77 [==============================] - 3s 39ms/step - loss: 0.0011\n",
            "Epoch 13/100\n",
            "77/77 [==============================] - 3s 39ms/step - loss: 0.0014\n",
            "Epoch 14/100\n",
            "77/77 [==============================] - 3s 38ms/step - loss: 0.0011\n",
            "Epoch 15/100\n",
            "77/77 [==============================] - 3s 39ms/step - loss: 0.0011\n",
            "Epoch 16/100\n",
            "77/77 [==============================] - 3s 39ms/step - loss: 0.0010\n",
            "Epoch 17/100\n",
            "77/77 [==============================] - 3s 38ms/step - loss: 0.0010\n",
            "Epoch 18/100\n",
            "77/77 [==============================] - 3s 38ms/step - loss: 0.0010\n",
            "Epoch 19/100\n",
            "77/77 [==============================] - 3s 39ms/step - loss: 0.0011\n",
            "Epoch 20/100\n",
            "77/77 [==============================] - 3s 38ms/step - loss: 0.0010\n",
            "Epoch 21/100\n",
            "77/77 [==============================] - 3s 39ms/step - loss: 9.5580e-04\n",
            "Epoch 22/100\n",
            "77/77 [==============================] - 3s 38ms/step - loss: 0.0011\n",
            "Epoch 23/100\n",
            "77/77 [==============================] - 3s 39ms/step - loss: 0.0013\n",
            "Epoch 24/100\n",
            "77/77 [==============================] - 3s 39ms/step - loss: 0.0012\n",
            "Epoch 25/100\n",
            "77/77 [==============================] - 3s 39ms/step - loss: 0.0010\n",
            "Epoch 26/100\n",
            "77/77 [==============================] - 3s 39ms/step - loss: 9.5843e-04\n",
            "Epoch 27/100\n",
            "77/77 [==============================] - 3s 39ms/step - loss: 0.0011\n",
            "Epoch 28/100\n",
            "77/77 [==============================] - 3s 38ms/step - loss: 0.0010\n",
            "Epoch 29/100\n",
            "77/77 [==============================] - 3s 38ms/step - loss: 0.0011\n",
            "Epoch 30/100\n",
            "77/77 [==============================] - 3s 39ms/step - loss: 0.0011\n",
            "Epoch 31/100\n",
            "77/77 [==============================] - 3s 39ms/step - loss: 8.6194e-04\n",
            "Epoch 32/100\n",
            "77/77 [==============================] - 3s 39ms/step - loss: 0.0011\n",
            "Epoch 33/100\n",
            "77/77 [==============================] - 3s 39ms/step - loss: 0.0010\n",
            "Epoch 34/100\n",
            "77/77 [==============================] - 3s 38ms/step - loss: 0.0012\n",
            "Epoch 35/100\n",
            "77/77 [==============================] - 3s 39ms/step - loss: 0.0012\n",
            "Epoch 36/100\n",
            "77/77 [==============================] - 3s 39ms/step - loss: 0.0010\n",
            "Epoch 37/100\n",
            "77/77 [==============================] - 3s 38ms/step - loss: 9.6781e-04\n",
            "Epoch 38/100\n",
            "77/77 [==============================] - 3s 38ms/step - loss: 0.0011\n",
            "Epoch 39/100\n",
            "77/77 [==============================] - 3s 38ms/step - loss: 0.0011\n",
            "Epoch 40/100\n",
            "77/77 [==============================] - 3s 39ms/step - loss: 0.0012\n",
            "Epoch 41/100\n",
            "77/77 [==============================] - 3s 39ms/step - loss: 9.2086e-04\n",
            "Epoch 42/100\n",
            "77/77 [==============================] - 3s 39ms/step - loss: 9.7700e-04\n",
            "Epoch 43/100\n",
            "77/77 [==============================] - 3s 38ms/step - loss: 0.0012\n",
            "Epoch 44/100\n",
            "77/77 [==============================] - 3s 38ms/step - loss: 0.0010\n",
            "Epoch 45/100\n",
            "77/77 [==============================] - 3s 38ms/step - loss: 0.0011\n",
            "Epoch 46/100\n",
            "77/77 [==============================] - 3s 38ms/step - loss: 9.8538e-04\n",
            "Epoch 47/100\n",
            "77/77 [==============================] - 3s 39ms/step - loss: 9.3824e-04\n",
            "Epoch 48/100\n",
            "77/77 [==============================] - 3s 38ms/step - loss: 9.6646e-04\n",
            "Epoch 49/100\n",
            "77/77 [==============================] - 3s 39ms/step - loss: 8.8541e-04\n",
            "Epoch 50/100\n",
            "77/77 [==============================] - 3s 38ms/step - loss: 9.2810e-04\n",
            "Epoch 51/100\n",
            "77/77 [==============================] - 3s 39ms/step - loss: 0.0010\n",
            "Epoch 52/100\n",
            "77/77 [==============================] - 3s 38ms/step - loss: 9.2483e-04\n",
            "Epoch 53/100\n",
            "77/77 [==============================] - 3s 39ms/step - loss: 9.5693e-04\n",
            "Epoch 54/100\n",
            "77/77 [==============================] - 3s 39ms/step - loss: 8.7992e-04\n",
            "Epoch 55/100\n",
            "77/77 [==============================] - 3s 38ms/step - loss: 9.9978e-04\n",
            "Epoch 56/100\n",
            "77/77 [==============================] - 3s 39ms/step - loss: 9.7228e-04\n",
            "Epoch 57/100\n",
            "77/77 [==============================] - 3s 38ms/step - loss: 0.0010\n",
            "Epoch 58/100\n",
            "77/77 [==============================] - 3s 39ms/step - loss: 0.0011\n",
            "Epoch 59/100\n",
            "77/77 [==============================] - 3s 38ms/step - loss: 9.6264e-04\n",
            "Epoch 60/100\n",
            "77/77 [==============================] - 3s 38ms/step - loss: 0.0011\n",
            "Epoch 61/100\n",
            "77/77 [==============================] - 3s 38ms/step - loss: 0.0012\n",
            "Epoch 62/100\n",
            "77/77 [==============================] - 3s 38ms/step - loss: 9.7423e-04\n",
            "Epoch 63/100\n",
            "77/77 [==============================] - 3s 38ms/step - loss: 9.7256e-04\n",
            "Epoch 64/100\n",
            "77/77 [==============================] - 3s 38ms/step - loss: 8.5535e-04\n",
            "Epoch 65/100\n",
            "77/77 [==============================] - 3s 38ms/step - loss: 0.0010\n",
            "Epoch 66/100\n",
            "77/77 [==============================] - 3s 38ms/step - loss: 9.7564e-04\n",
            "Epoch 67/100\n",
            "77/77 [==============================] - 3s 38ms/step - loss: 8.3944e-04\n",
            "Epoch 68/100\n",
            "77/77 [==============================] - 3s 38ms/step - loss: 8.6432e-04\n",
            "Epoch 69/100\n",
            "77/77 [==============================] - 3s 39ms/step - loss: 0.0010\n",
            "Epoch 70/100\n",
            "77/77 [==============================] - 3s 39ms/step - loss: 9.3037e-04\n",
            "Epoch 71/100\n",
            "77/77 [==============================] - 3s 38ms/step - loss: 8.9041e-04\n",
            "Epoch 72/100\n",
            "77/77 [==============================] - 3s 38ms/step - loss: 8.9127e-04\n",
            "Epoch 73/100\n",
            "77/77 [==============================] - 3s 38ms/step - loss: 8.8252e-04\n",
            "Epoch 74/100\n",
            "77/77 [==============================] - 3s 38ms/step - loss: 0.0010\n",
            "Epoch 75/100\n",
            "77/77 [==============================] - 3s 39ms/step - loss: 9.3306e-04\n",
            "Epoch 76/100\n",
            "77/77 [==============================] - 3s 38ms/step - loss: 0.0010\n",
            "Epoch 77/100\n",
            "77/77 [==============================] - 3s 39ms/step - loss: 9.2368e-04\n",
            "Epoch 78/100\n",
            "77/77 [==============================] - 3s 38ms/step - loss: 8.0884e-04\n",
            "Epoch 79/100\n",
            "77/77 [==============================] - 3s 38ms/step - loss: 0.0010\n",
            "Epoch 80/100\n",
            "77/77 [==============================] - 3s 39ms/step - loss: 9.8550e-04\n",
            "Epoch 81/100\n",
            "77/77 [==============================] - 3s 38ms/step - loss: 9.0722e-04\n",
            "Epoch 82/100\n",
            "77/77 [==============================] - 3s 38ms/step - loss: 0.0011\n",
            "Epoch 83/100\n",
            "77/77 [==============================] - 3s 38ms/step - loss: 8.7624e-04\n",
            "Epoch 84/100\n",
            "77/77 [==============================] - 3s 39ms/step - loss: 9.0723e-04\n",
            "Epoch 85/100\n",
            "77/77 [==============================] - 3s 39ms/step - loss: 9.9837e-04\n",
            "Epoch 86/100\n",
            "77/77 [==============================] - 3s 38ms/step - loss: 8.7988e-04\n",
            "Epoch 87/100\n",
            "77/77 [==============================] - 3s 38ms/step - loss: 8.9852e-04\n",
            "Epoch 88/100\n",
            "77/77 [==============================] - 3s 38ms/step - loss: 9.5007e-04\n",
            "Epoch 89/100\n",
            "77/77 [==============================] - 3s 38ms/step - loss: 8.2598e-04\n",
            "Epoch 90/100\n",
            "77/77 [==============================] - 3s 39ms/step - loss: 7.7581e-04\n",
            "Epoch 91/100\n",
            "77/77 [==============================] - 3s 38ms/step - loss: 8.9531e-04\n",
            "Epoch 92/100\n",
            "77/77 [==============================] - 3s 39ms/step - loss: 8.6752e-04\n",
            "Epoch 93/100\n",
            "77/77 [==============================] - 3s 39ms/step - loss: 7.6400e-04\n",
            "Epoch 94/100\n",
            "77/77 [==============================] - 3s 38ms/step - loss: 8.9015e-04\n",
            "Epoch 95/100\n",
            "77/77 [==============================] - 3s 39ms/step - loss: 9.0848e-04\n",
            "Epoch 96/100\n",
            "77/77 [==============================] - 3s 38ms/step - loss: 8.4235e-04\n",
            "Epoch 97/100\n",
            "77/77 [==============================] - 3s 39ms/step - loss: 8.2315e-04\n",
            "Epoch 98/100\n",
            "77/77 [==============================] - 3s 38ms/step - loss: 7.9566e-04\n",
            "Epoch 99/100\n",
            "77/77 [==============================] - 3s 38ms/step - loss: 9.9549e-04\n",
            "Epoch 100/100\n",
            "77/77 [==============================] - 3s 38ms/step - loss: 8.5654e-04\n"
          ],
          "name": "stdout"
        }
      ]
    },
    {
      "cell_type": "code",
      "metadata": {
        "id": "sBi7qQ-KQfxO",
        "colab_type": "code",
        "colab": {
          "base_uri": "https://localhost:8080/",
          "height": 513
        },
        "outputId": "ac7eec2c-7d08-45d9-a544-a87fac55ec03"
      },
      "source": [
        "plt.figure(figsize = (12, 8))\n",
        "plt.plot(history.history[\"loss\"], label = \"Training loss\")\n",
        "plt.title(\"Loss analysis\")\n",
        "plt.xlabel(\"Epoch\")\n",
        "plt.ylabel(\"Loss\")\n",
        "plt.legend([\"Train\"])\n",
        "plt.grid(\"both\")"
      ],
      "execution_count": 125,
      "outputs": [
        {
          "output_type": "display_data",
          "data": {
            "image/png": "[encoded data removed]",
            "text/plain": [
              "<Figure size 864x576 with 1 Axes>"
            ]
          },
          "metadata": {
            "tags": [],
            "needs_background": "light"
          }
        }
      ]
    },
    {
      "cell_type": "code",
      "metadata": {
        "id": "FTtf1nRpUuPU",
        "colab_type": "code",
        "colab": {}
      },
      "source": [
        "model_json = model.to_json()\n",
        "with open(\"amazon_model_01.json\", \"w\") as json_file:\n",
        "  json_file.write(model_json)\n",
        "\n",
        "model.save_weights(\"amazon_model_01.h5\")"
      ],
      "execution_count": 0,
      "outputs": []
    },
    {
      "cell_type": "code",
      "metadata": {
        "id": "ZeIz1nHZVcg3",
        "colab_type": "code",
        "colab": {}
      },
      "source": [
        "test = pd.DataFrame(pd.read_csv(\"/content/drive/My Drive/Datasets/Stock Prices/Amazon stock prices/AMZNtest.csv\"))\n",
        "train = pd.DataFrame(pd.read_csv(\"/content/drive/My Drive/Datasets/Stock Prices/Amazon stock prices/AMZNtrain.csv\"))"
      ],
      "execution_count": 0,
      "outputs": []
    },
    {
      "cell_type": "code",
      "metadata": {
        "id": "3mpl3QFgWKNz",
        "colab_type": "code",
        "colab": {
          "base_uri": "https://localhost:8080/",
          "height": 34
        },
        "outputId": "42eb4b94-1688-467d-b9f7-f0111cb5866b"
      },
      "source": [
        "test.shape"
      ],
      "execution_count": 128,
      "outputs": [
        {
          "output_type": "execute_result",
          "data": {
            "text/plain": [
              "(21, 7)"
            ]
          },
          "metadata": {
            "tags": []
          },
          "execution_count": 128
        }
      ]
    },
    {
      "cell_type": "code",
      "metadata": {
        "id": "shLHh-ScV2GJ",
        "colab_type": "code",
        "colab": {
          "base_uri": "https://localhost:8080/",
          "height": 516
        },
        "outputId": "94a48ccd-e762-4620-d900-2fa6218321d7"
      },
      "source": [
        "plt.figure(figsize = (12, 8))\n",
        "plt.subplot(1,1,1)\n",
        "plt.plot(test.Open.values, color = \"red\", label = \"Open Stock Price\")\n",
        "plt.grid(\"both\")\n",
        "plt.title(\"Real Amazon Prices for the next 21 days\")\n",
        "plt.legend()"
      ],
      "execution_count": 129,
      "outputs": [
        {
          "output_type": "execute_result",
          "data": {
            "text/plain": [
              "<matplotlib.legend.Legend at 0x7f510ff77630>"
            ]
          },
          "metadata": {
            "tags": []
          },
          "execution_count": 129
        },
        {
          "output_type": "display_data",
          "data": {
            "image/png": "[encoded data removed]",
            "text/plain": [
              "<Figure size 864x576 with 1 Axes>"
            ]
          },
          "metadata": {
            "tags": [],
            "needs_background": "light"
          }
        }
      ]
    },
    {
      "cell_type": "code",
      "metadata": {
        "id": "AJpyX40PV7A3",
        "colab_type": "code",
        "colab": {}
      },
      "source": [
        "test.drop([\"Volume\",\"Date\", \"Adj Close\", \"High\", \"Low\", \"Close\"], axis = 1, inplace = True)\n",
        "train.drop([\"Volume\",\"Date\", \"Adj Close\", \"High\", \"Low\", \"Close\"], axis = 1, inplace = True)"
      ],
      "execution_count": 0,
      "outputs": []
    },
    {
      "cell_type": "code",
      "metadata": {
        "id": "xCmET5YCWVOL",
        "colab_type": "code",
        "colab": {}
      },
      "source": [
        "real_prices = test.values"
      ],
      "execution_count": 0,
      "outputs": []
    },
    {
      "cell_type": "code",
      "metadata": {
        "id": "pg5U2NKRWaf2",
        "colab_type": "code",
        "colab": {}
      },
      "source": [
        "dataset_total = pd.concat((train[\"Open\"], test[\"Open\"]), axis = 0)"
      ],
      "execution_count": 0,
      "outputs": []
    },
    {
      "cell_type": "code",
      "metadata": {
        "id": "QC_ZfOhxWzYq",
        "colab_type": "code",
        "colab": {}
      },
      "source": [
        "inputs = dataset_total[len(dataset_total) - len(test) - time_step : ].values"
      ],
      "execution_count": 0,
      "outputs": []
    },
    {
      "cell_type": "code",
      "metadata": {
        "id": "kt4M0qh6XaEG",
        "colab_type": "code",
        "colab": {}
      },
      "source": [
        "inputs = inputs.reshape(-1, 1)"
      ],
      "execution_count": 0,
      "outputs": []
    },
    {
      "cell_type": "code",
      "metadata": {
        "id": "3bQJD8jOXbWX",
        "colab_type": "code",
        "colab": {}
      },
      "source": [
        "inputs = scaler.fit_transform(inputs)"
      ],
      "execution_count": 0,
      "outputs": []
    },
    {
      "cell_type": "code",
      "metadata": {
        "id": "ICcGBoJ6XxYB",
        "colab_type": "code",
        "colab": {
          "base_uri": "https://localhost:8080/",
          "height": 34
        },
        "outputId": "ca186769-e17c-4740-e7d5-3cd2183c417a"
      },
      "source": [
        "inputs.shape"
      ],
      "execution_count": 136,
      "outputs": [
        {
          "output_type": "execute_result",
          "data": {
            "text/plain": [
              "(61, 1)"
            ]
          },
          "metadata": {
            "tags": []
          },
          "execution_count": 136
        }
      ]
    },
    {
      "cell_type": "code",
      "metadata": {
        "id": "vLVjKzaqXorJ",
        "colab_type": "code",
        "colab": {}
      },
      "source": [
        "x_test = []\n",
        "for i in range(time_step, inputs.shape[0]):\n",
        "  x_test.append(inputs[i - time_step : i , 0])\n",
        "x_test = np.array(x_test)"
      ],
      "execution_count": 0,
      "outputs": []
    },
    {
      "cell_type": "code",
      "metadata": {
        "id": "yz4bmLuhYGWd",
        "colab_type": "code",
        "colab": {
          "base_uri": "https://localhost:8080/",
          "height": 34
        },
        "outputId": "11bb01d3-a174-4119-f906-274772c304ed"
      },
      "source": [
        "x_test.shape"
      ],
      "execution_count": 138,
      "outputs": [
        {
          "output_type": "execute_result",
          "data": {
            "text/plain": [
              "(21, 40)"
            ]
          },
          "metadata": {
            "tags": []
          },
          "execution_count": 138
        }
      ]
    },
    {
      "cell_type": "code",
      "metadata": {
        "id": "rEcMoF9NYNQX",
        "colab_type": "code",
        "colab": {}
      },
      "source": [
        "x_test = np.reshape(x_test, (x_test.shape[0], x_test.shape[1], 1))"
      ],
      "execution_count": 0,
      "outputs": []
    },
    {
      "cell_type": "code",
      "metadata": {
        "id": "KOTp-L_-YXpz",
        "colab_type": "code",
        "colab": {}
      },
      "source": [
        "predicted_prices = model.predict(x_test)"
      ],
      "execution_count": 0,
      "outputs": []
    },
    {
      "cell_type": "code",
      "metadata": {
        "id": "VX0ZmN6qYdPX",
        "colab_type": "code",
        "colab": {}
      },
      "source": [
        "predicted_prices = scaler.inverse_transform(predicted_prices)"
      ],
      "execution_count": 0,
      "outputs": []
    },
    {
      "cell_type": "code",
      "metadata": {
        "id": "p81bbmR2YjrK",
        "colab_type": "code",
        "colab": {
          "base_uri": "https://localhost:8080/",
          "height": 513
        },
        "outputId": "3bcf5cd1-a518-4893-b7de-0feb32a95cf8"
      },
      "source": [
        "plt.figure(figsize= (12, 8))\n",
        "plt.subplot(1,1,1)\n",
        "plt.plot(real_prices, color = \"red\", label = \"Real Amazon prices\")\n",
        "plt.plot(predicted_prices, color = \"blue\", label = \"Predicted Amazon prices\")\n",
        "plt.title(\"Amazon Open Stock Prices\")\n",
        "plt.xlabel(\"Time\")\n",
        "plt.ylabel(\"Stock Price\")\n",
        "plt.legend()\n",
        "plt.grid(\"both\")\n",
        "plt.show()"
      ],
      "execution_count": 142,
      "outputs": [
        {
          "output_type": "display_data",
          "data": {
            "image/png": "[encoded data removed]",
            "text/plain": [
              "<Figure size 864x576 with 1 Axes>"
            ]
          },
          "metadata": {
            "tags": [],
            "needs_background": "light"
          }
        }
      ]
    }
  ]
}